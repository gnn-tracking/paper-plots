{
 "cells": [
  {
   "cell_type": "code",
   "execution_count": 1,
   "metadata": {
    "collapsed": false
   },
   "outputs": [
    {
     "name": "stdout",
     "output_type": "stream",
     "text": [
      "The autoreload extension is already loaded. To reload it, use:\n",
      "  %reload_ext autoreload\n"
     ]
    },
    {
     "name": "stderr",
     "output_type": "stream",
     "text": [
      "/scratch/gpfs/kl5675/micromamba/envs/gnn/lib/python3.10/site-packages/torch/cuda/__init__.py:546: UserWarning: Can't initialize NVML\n",
      "  warnings.warn(\"Can't initialize NVML\")\n"
     ]
    }
   ],
   "source": [
    "%load_ext autoreload\n",
    "%autoreload 2\n",
    "\n",
    "from matplotlib import pyplot as plt\n",
    "\n",
    "import pandas as pd\n",
    "\n",
    "%load_ext autoreload\n",
    "%autoreload 2\n",
    "\n",
    "from pytorch_lightning import Trainer\n",
    "\n",
    "from gnn_tracking.postprocessing.dbscanscanner import DBSCANHyperParamScannerFixed\n",
    "from gnn_tracking.training.tc import TCModule\n",
    "from pytorch_lightning.utilities.model_summary import ModelSummary\n",
    "from ocpaper231.plotutils import Plot\n",
    "from gnn_tracking.metrics.cluster_metrics import (\n",
    "    tracking_metrics_vs_pt,\n",
    "    tracking_metrics_vs_eta,\n",
    ")\n",
    "from torch_geometric.utils import index_to_mask\n",
    "from torch_geometric.data import Data\n",
    "import scienceplots\n",
    "from gnn_tracking.utils.loading import TrackingDataModule\n",
    "import numpy as np\n",
    "\n",
    "\n",
    "plt.style.use([\"science\", \"notebook\"])\n",
    "from ocpaper231.data import model_exchange_path\n",
    "from ocpaper231.names import variable_manager as vm"
   ]
  },
  {
   "cell_type": "code",
   "execution_count": 2,
   "metadata": {
    "collapsed": false
   },
   "outputs": [
    {
     "data": {
      "text/plain": [
       "<module 'gnn_tracking.metrics.cluster_metrics' from '/home/kl5675/Documents/23/git_sync/gnn_tracking/src/gnn_tracking/metrics/cluster_metrics.py'>"
      ]
     },
     "execution_count": 2,
     "metadata": {},
     "output_type": "execute_result"
    }
   ],
   "source": [
    "import importlib\n",
    "import gnn_tracking.metrics.cluster_metrics\n",
    "\n",
    "importlib.reload(gnn_tracking.metrics.cluster_metrics)"
   ]
  },
  {
   "cell_type": "code",
   "execution_count": 34,
   "metadata": {
    "collapsed": false
   },
   "outputs": [
    {
     "name": "stderr",
     "output_type": "stream",
     "text": [
      "\u001b[32m[17:56:03] INFO: DataLoader will load 900 graphs (out of 900 available).\u001b[0m\n",
      "\u001b[36m[17:56:03] DEBUG: First graph is /scratch/gpfs/IOJALVO/gnn-tracking/object_condensation/graphs_v6_cut/part_1/data21000_s0.pt, last graph is /scratch/gpfs/IOJALVO/gnn-tracking/object_condensation/graphs_v6_cut/part_1/data21999_s0.pt\u001b[0m\n",
      "\u001b[32m[17:56:03] INFO: DataLoader will load 10 graphs (out of 1000 available).\u001b[0m\n",
      "\u001b[36m[17:56:03] DEBUG: First graph is /scratch/gpfs/IOJALVO/gnn-tracking/object_condensation/graphs_v6_cut/part_9/data29000_s0.pt, last graph is /scratch/gpfs/IOJALVO/gnn-tracking/object_condensation/graphs_v6_cut/part_9/data29009_s0.pt\u001b[0m\n"
     ]
    }
   ],
   "source": [
    "dm = TrackingDataModule(\n",
    "    train=dict(\n",
    "        dirs=[\n",
    "            \"/scratch/gpfs/IOJALVO/gnn-tracking/object_condensation/graphs_v6_cut/part_1/\"\n",
    "        ],\n",
    "    ),\n",
    "    val=dict(\n",
    "        dirs=[\n",
    "            \"/scratch/gpfs/IOJALVO/gnn-tracking/object_condensation/graphs_v6_cut/part_9/\"\n",
    "        ],\n",
    "        stop=10,\n",
    "    ),\n",
    ")\n",
    "dm.setup(stage=\"fit\")"
   ]
  },
  {
   "cell_type": "code",
   "execution_count": 35,
   "metadata": {
    "collapsed": false
   },
   "outputs": [],
   "source": [
    "from gnn_tracking.utils.lightning import find_latest_checkpoint\n",
    "from pathlib import Path\n",
    "\n",
    "\n",
    "model = \"discerning-unbiased-sponge\"\n",
    "chkpt_path = find_latest_checkpoint(\n",
    "    Path(\n",
    "        f\"/home/kl5675/Documents/23/git_sync/hyperparameter_optimization2/scripts/legacy/lightning_logs/\"\n",
    "    ),\n",
    "    model,\n",
    ")"
   ]
  },
  {
   "cell_type": "code",
   "execution_count": 36,
   "metadata": {
    "collapsed": false
   },
   "outputs": [
    {
     "data": {
      "text/plain": [
       "PosixPath('/home/kl5675/Documents/23/git_sync/hyperparameter_optimization2/scripts/legacy/lightning_logs/discerning-unbiased-sponge/checkpoints/epoch=88-step=640800.ckpt')"
      ]
     },
     "execution_count": 36,
     "metadata": {},
     "output_type": "execute_result"
    }
   ],
   "source": [
    "chkpt_path"
   ]
  },
  {
   "cell_type": "code",
   "execution_count": 37,
   "metadata": {
    "collapsed": false
   },
   "outputs": [
    {
     "name": "stderr",
     "output_type": "stream",
     "text": [
      "\u001b[36m[17:56:06] DEBUG: Getting class PreTrainedECGraphTCN from module gnn_tracking.models.track_condensation_networks\u001b[0m\n",
      "/scratch/gpfs/kl5675/micromamba/envs/gnn/lib/python3.10/site-packages/pytorch_lightning/utilities/parsing.py:196: UserWarning: Attribute 'hc_in' is an instance of `nn.Module` and is already saved during checkpointing. It is recommended to ignore them using `self.save_hyperparameters(ignore=['hc_in'])`.\n",
      "  rank_zero_warn(\n",
      "\u001b[36m[17:56:06] DEBUG: Getting class PotentialLoss from module gnn_tracking.metrics.losses\u001b[0m\n",
      "\u001b[36m[17:56:06] DEBUG: Getting class BackgroundLoss from module gnn_tracking.metrics.losses\u001b[0m\n",
      "\u001b[36m[17:56:06] DEBUG: Getting class DBSCANHyperParamScanner from module gnn_tracking.postprocessing.dbscanscanner\u001b[0m\n"
     ]
    }
   ],
   "source": [
    "lmodel = TCModule.load_from_checkpoint(chkpt_path, map_location=\"cpu\")"
   ]
  },
  {
   "cell_type": "markdown",
   "metadata": {
    "collapsed": false
   },
   "source": [
    "# VS EPS"
   ]
  },
  {
   "cell_type": "code",
   "execution_count": 38,
   "metadata": {
    "collapsed": false
   },
   "outputs": [],
   "source": [
    "eps = np.linspace(0.001, 1, 80)\n",
    "ks = [1]  # np.arange(1, 5)\n",
    "trials = []\n",
    "for e in eps:\n",
    "    for k in ks:\n",
    "        trials.append({\"eps\": e, \"min_samples\": k})\n",
    "\n",
    "eps_scanner = DBSCANHyperParamScannerFixed(\n",
    "    trials=trials,\n",
    ")\n",
    "lmodel.cluster_scanner = eps_scanner"
   ]
  },
  {
   "cell_type": "code",
   "execution_count": 39,
   "metadata": {
    "collapsed": false
   },
   "outputs": [
    {
     "data": {
      "text/plain": [
       "  | Name            | Type                 | Params\n",
       "---------------------------------------------------------\n",
       "0 | model           | PreTrainedECGraphTCN | 1.9 M \n",
       "1 | potential_loss  | PotentialLoss        | 0     \n",
       "2 | background_loss | BackgroundLoss       | 0     \n",
       "---------------------------------------------------------\n",
       "1.9 M     Trainable params\n",
       "0         Non-trainable params\n",
       "1.9 M     Total params\n",
       "7.579     Total estimated model params size (MB)"
      ]
     },
     "execution_count": 39,
     "metadata": {},
     "output_type": "execute_result"
    }
   ],
   "source": [
    "ModelSummary(lmodel)"
   ]
  },
  {
   "cell_type": "code",
   "execution_count": 40,
   "metadata": {
    "collapsed": false
   },
   "outputs": [
    {
     "name": "stderr",
     "output_type": "stream",
     "text": [
      "/scratch/gpfs/kl5675/micromamba/envs/gnn/lib/python3.10/site-packages/lightning_fabric/plugins/environments/slurm.py:165: PossibleUserWarning: The `srun` command is available on your system but is not used. HINT: If your intention is to run Lightning on SLURM, prepend your python command with `srun` like so: srun python /scratch/gpfs/kl5675/micromamba/envs/gnn/lib/python3 ...\n",
      "  rank_zero_warn(\n",
      "GPU available: False, used: False\n",
      "TPU available: False, using: 0 TPU cores\n",
      "IPU available: False, using: 0 IPUs\n",
      "HPU available: False, using: 0 HPUs\n"
     ]
    }
   ],
   "source": [
    "trainer = Trainer(accelerator=\"cpu\")"
   ]
  },
  {
   "cell_type": "code",
   "execution_count": 41,
   "metadata": {
    "collapsed": false
   },
   "outputs": [
    {
     "name": "stderr",
     "output_type": "stream",
     "text": [
      "/scratch/gpfs/kl5675/micromamba/envs/gnn/lib/python3.10/site-packages/pytorch_lightning/trainer/connectors/checkpoint_connector.py:189: UserWarning: .validate(ckpt_path=\"last\") is set, but there is no last checkpoint available. No checkpoint will be loaded.\n",
      "  rank_zero_warn(\n",
      "\u001b[32m[17:56:09] INFO: DataLoader will load 10 graphs (out of 1000 available).\u001b[0m\n",
      "\u001b[36m[17:56:09] DEBUG: First graph is /scratch/gpfs/IOJALVO/gnn-tracking/object_condensation/graphs_v6_cut/part_9/data29000_s0.pt, last graph is /scratch/gpfs/IOJALVO/gnn-tracking/object_condensation/graphs_v6_cut/part_9/data29009_s0.pt\u001b[0m\n",
      "/scratch/gpfs/kl5675/micromamba/envs/gnn/lib/python3.10/site-packages/pytorch_lightning/trainer/connectors/data_connector.py:432: PossibleUserWarning: The dataloader, val_dataloader, does not have many workers which may be a bottleneck. Consider increasing the value of the `num_workers` argument` (try 96 which is the number of cpus on this machine) in the `DataLoader` init to improve performance.\n",
      "  rank_zero_warn(\n"
     ]
    },
    {
     "data": {
      "application/vnd.jupyter.widget-view+json": {
       "model_id": "99af926ea70242f1997a8bbdcd374f4c",
       "version_major": 2,
       "version_minor": 0
      },
      "text/plain": [
       "Validation: 0it [00:00, ?it/s]"
      ]
     },
     "metadata": {},
     "output_type": "display_data"
    },
    {
     "name": "stderr",
     "output_type": "stream",
     "text": [
      "NaN or Inf found in input tensor.\n",
      "NaN or Inf found in input tensor.\n"
     ]
    }
   ],
   "source": [
    "_ = trainer.validate(lmodel, dm, ckpt_path=\"last\", verbose=False)"
   ]
  },
  {
   "cell_type": "code",
   "execution_count": 42,
   "metadata": {
    "collapsed": false
   },
   "outputs": [
    {
     "data": {
      "text/plain": [
       "[<matplotlib.lines.Line2D at 0x150404fb8880>]"
      ]
     },
     "execution_count": 42,
     "metadata": {},
     "output_type": "execute_result"
    },
    {
     "data": {
      "image/png": "[encoded data removed]",
      "text/plain": [
       "<Figure size 800x600 with 1 Axes>"
      ]
     },
     "metadata": {},
     "output_type": "display_data"
    }
   ],
   "source": [
    "plt.plot(\"eps\", \"double_majority_pt0.9\", data=eps_scanner.get_results().df_mean)"
   ]
  },
  {
   "cell_type": "code",
   "execution_count": 43,
   "metadata": {
    "collapsed": false
   },
   "outputs": [],
   "source": [
    "df = eps_scanner.get_results().df_mean\n",
    "dm_max_idx = df[\"double_majority_pt0.9\"].argmax()\n",
    "dm_max_thld = df.loc[dm_max_idx, \"eps\"]"
   ]
  },
  {
   "cell_type": "code",
   "execution_count": 44,
   "metadata": {
    "collapsed": false
   },
   "outputs": [
    {
     "data": {
      "text/plain": [
       "0.2665569620253165"
      ]
     },
     "execution_count": 44,
     "metadata": {},
     "output_type": "execute_result"
    }
   ],
   "source": [
    "dm_max_thld"
   ]
  },
  {
   "cell_type": "code",
   "execution_count": 28,
   "metadata": {
    "collapsed": false
   },
   "outputs": [
    {
     "data": {
      "text/html": [
       "<div>\n",
       "<style scoped>\n",
       "    .dataframe tbody tr th:only-of-type {\n",
       "        vertical-align: middle;\n",
       "    }\n",
       "\n",
       "    .dataframe tbody tr th {\n",
       "        vertical-align: top;\n",
       "    }\n",
       "\n",
       "    .dataframe thead th {\n",
       "        text-align: right;\n",
       "    }\n",
       "</style>\n",
       "<table border=\"1\" class=\"dataframe\">\n",
       "  <thead>\n",
       "    <tr style=\"text-align: right;\">\n",
       "      <th></th>\n",
       "      <th>eps</th>\n",
       "      <th>min_samples</th>\n",
       "      <th>i_batch</th>\n",
       "      <th>n_particles</th>\n",
       "      <th>n_cleaned_clusters</th>\n",
       "      <th>perfect</th>\n",
       "      <th>double_majority</th>\n",
       "      <th>lhc</th>\n",
       "      <th>fake_perfect</th>\n",
       "      <th>fake_double_majority</th>\n",
       "      <th>...</th>\n",
       "      <th>fake_double_majority_pt0.9_std</th>\n",
       "      <th>fake_lhc_pt0.9_std</th>\n",
       "      <th>n_particles_pt1.5_std</th>\n",
       "      <th>n_cleaned_clusters_pt1.5_std</th>\n",
       "      <th>perfect_pt1.5_std</th>\n",
       "      <th>double_majority_pt1.5_std</th>\n",
       "      <th>lhc_pt1.5_std</th>\n",
       "      <th>fake_perfect_pt1.5_std</th>\n",
       "      <th>fake_double_majority_pt1.5_std</th>\n",
       "      <th>fake_lhc_pt1.5_std</th>\n",
       "    </tr>\n",
       "  </thead>\n",
       "  <tbody>\n",
       "    <tr>\n",
       "      <th>0</th>\n",
       "      <td>0.001000</td>\n",
       "      <td>1</td>\n",
       "      <td>0.0</td>\n",
       "      <td>7821.0</td>\n",
       "      <td>1.0</td>\n",
       "      <td>0.000000</td>\n",
       "      <td>0.000000</td>\n",
       "      <td>0.000000</td>\n",
       "      <td>0.000128</td>\n",
       "      <td>0.000128</td>\n",
       "      <td>...</td>\n",
       "      <td>NaN</td>\n",
       "      <td>NaN</td>\n",
       "      <td>NaN</td>\n",
       "      <td>NaN</td>\n",
       "      <td>NaN</td>\n",
       "      <td>NaN</td>\n",
       "      <td>NaN</td>\n",
       "      <td>NaN</td>\n",
       "      <td>NaN</td>\n",
       "      <td>NaN</td>\n",
       "    </tr>\n",
       "    <tr>\n",
       "      <th>1</th>\n",
       "      <td>0.013646</td>\n",
       "      <td>1</td>\n",
       "      <td>0.0</td>\n",
       "      <td>7821.0</td>\n",
       "      <td>539.0</td>\n",
       "      <td>0.000000</td>\n",
       "      <td>0.000895</td>\n",
       "      <td>0.992579</td>\n",
       "      <td>0.068917</td>\n",
       "      <td>0.068022</td>\n",
       "      <td>...</td>\n",
       "      <td>NaN</td>\n",
       "      <td>NaN</td>\n",
       "      <td>NaN</td>\n",
       "      <td>NaN</td>\n",
       "      <td>NaN</td>\n",
       "      <td>NaN</td>\n",
       "      <td>NaN</td>\n",
       "      <td>NaN</td>\n",
       "      <td>NaN</td>\n",
       "      <td>NaN</td>\n",
       "    </tr>\n",
       "    <tr>\n",
       "      <th>2</th>\n",
       "      <td>0.026291</td>\n",
       "      <td>1</td>\n",
       "      <td>0.0</td>\n",
       "      <td>7821.0</td>\n",
       "      <td>1066.0</td>\n",
       "      <td>0.005370</td>\n",
       "      <td>0.051144</td>\n",
       "      <td>0.984991</td>\n",
       "      <td>0.130930</td>\n",
       "      <td>0.085155</td>\n",
       "      <td>...</td>\n",
       "      <td>NaN</td>\n",
       "      <td>NaN</td>\n",
       "      <td>NaN</td>\n",
       "      <td>NaN</td>\n",
       "      <td>NaN</td>\n",
       "      <td>NaN</td>\n",
       "      <td>NaN</td>\n",
       "      <td>NaN</td>\n",
       "      <td>NaN</td>\n",
       "      <td>NaN</td>\n",
       "    </tr>\n",
       "    <tr>\n",
       "      <th>3</th>\n",
       "      <td>0.038937</td>\n",
       "      <td>1</td>\n",
       "      <td>0.0</td>\n",
       "      <td>7821.0</td>\n",
       "      <td>1598.0</td>\n",
       "      <td>0.045391</td>\n",
       "      <td>0.141158</td>\n",
       "      <td>0.978098</td>\n",
       "      <td>0.158931</td>\n",
       "      <td>0.063163</td>\n",
       "      <td>...</td>\n",
       "      <td>NaN</td>\n",
       "      <td>NaN</td>\n",
       "      <td>NaN</td>\n",
       "      <td>NaN</td>\n",
       "      <td>NaN</td>\n",
       "      <td>NaN</td>\n",
       "      <td>NaN</td>\n",
       "      <td>NaN</td>\n",
       "      <td>NaN</td>\n",
       "      <td>NaN</td>\n",
       "    </tr>\n",
       "    <tr>\n",
       "      <th>4</th>\n",
       "      <td>0.051582</td>\n",
       "      <td>1</td>\n",
       "      <td>0.0</td>\n",
       "      <td>7821.0</td>\n",
       "      <td>1913.0</td>\n",
       "      <td>0.092443</td>\n",
       "      <td>0.185143</td>\n",
       "      <td>0.976477</td>\n",
       "      <td>0.152154</td>\n",
       "      <td>0.059455</td>\n",
       "      <td>...</td>\n",
       "      <td>NaN</td>\n",
       "      <td>NaN</td>\n",
       "      <td>NaN</td>\n",
       "      <td>NaN</td>\n",
       "      <td>NaN</td>\n",
       "      <td>NaN</td>\n",
       "      <td>NaN</td>\n",
       "      <td>NaN</td>\n",
       "      <td>NaN</td>\n",
       "      <td>NaN</td>\n",
       "    </tr>\n",
       "    <tr>\n",
       "      <th>...</th>\n",
       "      <td>...</td>\n",
       "      <td>...</td>\n",
       "      <td>...</td>\n",
       "      <td>...</td>\n",
       "      <td>...</td>\n",
       "      <td>...</td>\n",
       "      <td>...</td>\n",
       "      <td>...</td>\n",
       "      <td>...</td>\n",
       "      <td>...</td>\n",
       "      <td>...</td>\n",
       "      <td>...</td>\n",
       "      <td>...</td>\n",
       "      <td>...</td>\n",
       "      <td>...</td>\n",
       "      <td>...</td>\n",
       "      <td>...</td>\n",
       "      <td>...</td>\n",
       "      <td>...</td>\n",
       "      <td>...</td>\n",
       "      <td>...</td>\n",
       "    </tr>\n",
       "    <tr>\n",
       "      <th>75</th>\n",
       "      <td>0.949418</td>\n",
       "      <td>1</td>\n",
       "      <td>0.0</td>\n",
       "      <td>7821.0</td>\n",
       "      <td>388.0</td>\n",
       "      <td>0.012530</td>\n",
       "      <td>0.021608</td>\n",
       "      <td>0.708763</td>\n",
       "      <td>0.037080</td>\n",
       "      <td>0.028002</td>\n",
       "      <td>...</td>\n",
       "      <td>NaN</td>\n",
       "      <td>NaN</td>\n",
       "      <td>NaN</td>\n",
       "      <td>NaN</td>\n",
       "      <td>NaN</td>\n",
       "      <td>NaN</td>\n",
       "      <td>NaN</td>\n",
       "      <td>NaN</td>\n",
       "      <td>NaN</td>\n",
       "      <td>NaN</td>\n",
       "    </tr>\n",
       "    <tr>\n",
       "      <th>76</th>\n",
       "      <td>0.962063</td>\n",
       "      <td>1</td>\n",
       "      <td>0.0</td>\n",
       "      <td>7821.0</td>\n",
       "      <td>276.0</td>\n",
       "      <td>0.009462</td>\n",
       "      <td>0.015599</td>\n",
       "      <td>0.757246</td>\n",
       "      <td>0.025828</td>\n",
       "      <td>0.019691</td>\n",
       "      <td>...</td>\n",
       "      <td>NaN</td>\n",
       "      <td>NaN</td>\n",
       "      <td>NaN</td>\n",
       "      <td>NaN</td>\n",
       "      <td>NaN</td>\n",
       "      <td>NaN</td>\n",
       "      <td>NaN</td>\n",
       "      <td>NaN</td>\n",
       "      <td>NaN</td>\n",
       "      <td>NaN</td>\n",
       "    </tr>\n",
       "    <tr>\n",
       "      <th>77</th>\n",
       "      <td>0.974709</td>\n",
       "      <td>1</td>\n",
       "      <td>0.0</td>\n",
       "      <td>7821.0</td>\n",
       "      <td>197.0</td>\n",
       "      <td>0.007160</td>\n",
       "      <td>0.010996</td>\n",
       "      <td>0.786802</td>\n",
       "      <td>0.018028</td>\n",
       "      <td>0.014193</td>\n",
       "      <td>...</td>\n",
       "      <td>NaN</td>\n",
       "      <td>NaN</td>\n",
       "      <td>NaN</td>\n",
       "      <td>NaN</td>\n",
       "      <td>NaN</td>\n",
       "      <td>NaN</td>\n",
       "      <td>NaN</td>\n",
       "      <td>NaN</td>\n",
       "      <td>NaN</td>\n",
       "      <td>NaN</td>\n",
       "    </tr>\n",
       "    <tr>\n",
       "      <th>78</th>\n",
       "      <td>0.987354</td>\n",
       "      <td>1</td>\n",
       "      <td>0.0</td>\n",
       "      <td>7821.0</td>\n",
       "      <td>158.0</td>\n",
       "      <td>0.005114</td>\n",
       "      <td>0.008055</td>\n",
       "      <td>0.803797</td>\n",
       "      <td>0.015088</td>\n",
       "      <td>0.012147</td>\n",
       "      <td>...</td>\n",
       "      <td>NaN</td>\n",
       "      <td>NaN</td>\n",
       "      <td>NaN</td>\n",
       "      <td>NaN</td>\n",
       "      <td>NaN</td>\n",
       "      <td>NaN</td>\n",
       "      <td>NaN</td>\n",
       "      <td>NaN</td>\n",
       "      <td>NaN</td>\n",
       "      <td>NaN</td>\n",
       "    </tr>\n",
       "    <tr>\n",
       "      <th>79</th>\n",
       "      <td>1.000000</td>\n",
       "      <td>1</td>\n",
       "      <td>0.0</td>\n",
       "      <td>7821.0</td>\n",
       "      <td>113.0</td>\n",
       "      <td>0.003452</td>\n",
       "      <td>0.005498</td>\n",
       "      <td>0.849558</td>\n",
       "      <td>0.010996</td>\n",
       "      <td>0.008950</td>\n",
       "      <td>...</td>\n",
       "      <td>NaN</td>\n",
       "      <td>NaN</td>\n",
       "      <td>NaN</td>\n",
       "      <td>NaN</td>\n",
       "      <td>NaN</td>\n",
       "      <td>NaN</td>\n",
       "      <td>NaN</td>\n",
       "      <td>NaN</td>\n",
       "      <td>NaN</td>\n",
       "      <td>NaN</td>\n",
       "    </tr>\n",
       "  </tbody>\n",
       "</table>\n",
       "<p>80 rows × 68 columns</p>\n",
       "</div>"
      ],
      "text/plain": [
       "         eps  min_samples  i_batch  n_particles  n_cleaned_clusters   perfect  \\\n",
       "0   0.001000            1      0.0       7821.0                 1.0  0.000000   \n",
       "1   0.013646            1      0.0       7821.0               539.0  0.000000   \n",
       "2   0.026291            1      0.0       7821.0              1066.0  0.005370   \n",
       "3   0.038937            1      0.0       7821.0              1598.0  0.045391   \n",
       "4   0.051582            1      0.0       7821.0              1913.0  0.092443   \n",
       "..       ...          ...      ...          ...                 ...       ...   \n",
       "75  0.949418            1      0.0       7821.0               388.0  0.012530   \n",
       "76  0.962063            1      0.0       7821.0               276.0  0.009462   \n",
       "77  0.974709            1      0.0       7821.0               197.0  0.007160   \n",
       "78  0.987354            1      0.0       7821.0               158.0  0.005114   \n",
       "79  1.000000            1      0.0       7821.0               113.0  0.003452   \n",
       "\n",
       "    double_majority       lhc  fake_perfect  fake_double_majority  ...  \\\n",
       "0          0.000000  0.000000      0.000128              0.000128  ...   \n",
       "1          0.000895  0.992579      0.068917              0.068022  ...   \n",
       "2          0.051144  0.984991      0.130930              0.085155  ...   \n",
       "3          0.141158  0.978098      0.158931              0.063163  ...   \n",
       "4          0.185143  0.976477      0.152154              0.059455  ...   \n",
       "..              ...       ...           ...                   ...  ...   \n",
       "75         0.021608  0.708763      0.037080              0.028002  ...   \n",
       "76         0.015599  0.757246      0.025828              0.019691  ...   \n",
       "77         0.010996  0.786802      0.018028              0.014193  ...   \n",
       "78         0.008055  0.803797      0.015088              0.012147  ...   \n",
       "79         0.005498  0.849558      0.010996              0.008950  ...   \n",
       "\n",
       "    fake_double_majority_pt0.9_std  fake_lhc_pt0.9_std  n_particles_pt1.5_std  \\\n",
       "0                              NaN                 NaN                    NaN   \n",
       "1                              NaN                 NaN                    NaN   \n",
       "2                              NaN                 NaN                    NaN   \n",
       "3                              NaN                 NaN                    NaN   \n",
       "4                              NaN                 NaN                    NaN   \n",
       "..                             ...                 ...                    ...   \n",
       "75                             NaN                 NaN                    NaN   \n",
       "76                             NaN                 NaN                    NaN   \n",
       "77                             NaN                 NaN                    NaN   \n",
       "78                             NaN                 NaN                    NaN   \n",
       "79                             NaN                 NaN                    NaN   \n",
       "\n",
       "    n_cleaned_clusters_pt1.5_std  perfect_pt1.5_std  \\\n",
       "0                            NaN                NaN   \n",
       "1                            NaN                NaN   \n",
       "2                            NaN                NaN   \n",
       "3                            NaN                NaN   \n",
       "4                            NaN                NaN   \n",
       "..                           ...                ...   \n",
       "75                           NaN                NaN   \n",
       "76                           NaN                NaN   \n",
       "77                           NaN                NaN   \n",
       "78                           NaN                NaN   \n",
       "79                           NaN                NaN   \n",
       "\n",
       "    double_majority_pt1.5_std  lhc_pt1.5_std  fake_perfect_pt1.5_std  \\\n",
       "0                         NaN            NaN                     NaN   \n",
       "1                         NaN            NaN                     NaN   \n",
       "2                         NaN            NaN                     NaN   \n",
       "3                         NaN            NaN                     NaN   \n",
       "4                         NaN            NaN                     NaN   \n",
       "..                        ...            ...                     ...   \n",
       "75                        NaN            NaN                     NaN   \n",
       "76                        NaN            NaN                     NaN   \n",
       "77                        NaN            NaN                     NaN   \n",
       "78                        NaN            NaN                     NaN   \n",
       "79                        NaN            NaN                     NaN   \n",
       "\n",
       "    fake_double_majority_pt1.5_std  fake_lhc_pt1.5_std  \n",
       "0                              NaN                 NaN  \n",
       "1                              NaN                 NaN  \n",
       "2                              NaN                 NaN  \n",
       "3                              NaN                 NaN  \n",
       "4                              NaN                 NaN  \n",
       "..                             ...                 ...  \n",
       "75                             NaN                 NaN  \n",
       "76                             NaN                 NaN  \n",
       "77                             NaN                 NaN  \n",
       "78                             NaN                 NaN  \n",
       "79                             NaN                 NaN  \n",
       "\n",
       "[80 rows x 68 columns]"
      ]
     },
     "execution_count": 28,
     "metadata": {},
     "output_type": "execute_result"
    }
   ],
   "source": [
    "eps_scanner.get_results().df_mean"
   ]
  },
  {
   "cell_type": "markdown",
   "metadata": {
    "collapsed": false
   },
   "source": [
    "\n",
    "# vs pt and eta"
   ]
  },
  {
   "cell_type": "markdown",
   "metadata": {
    "collapsed": false
   },
   "source": [
    "\n",
    "## Actual performance"
   ]
  },
  {
   "cell_type": "code",
   "execution_count": 45,
   "metadata": {
    "collapsed": false
   },
   "outputs": [],
   "source": [
    "# eyeballed\n",
    "best_eps = dm_max_thld\n",
    "best_k = 1"
   ]
  },
  {
   "cell_type": "code",
   "execution_count": 46,
   "metadata": {
    "collapsed": false
   },
   "outputs": [
    {
     "name": "stderr",
     "output_type": "stream",
     "text": [
      "/scratch/gpfs/kl5675/micromamba/envs/gnn/lib/python3.10/site-packages/lightning_fabric/plugins/environments/slurm.py:165: PossibleUserWarning: The `srun` command is available on your system but is not used. HINT: If your intention is to run Lightning on SLURM, prepend your python command with `srun` like so: srun python /scratch/gpfs/kl5675/micromamba/envs/gnn/lib/python3 ...\n",
      "  rank_zero_warn(\n",
      "GPU available: False, used: False\n",
      "TPU available: False, using: 0 TPU cores\n",
      "IPU available: False, using: 0 IPUs\n",
      "HPU available: False, using: 0 HPUs\n",
      "/scratch/gpfs/kl5675/micromamba/envs/gnn/lib/python3.10/site-packages/pytorch_lightning/trainer/connectors/checkpoint_connector.py:189: UserWarning: .validate(ckpt_path=\"last\") is set, but there is no last checkpoint available. No checkpoint will be loaded.\n",
      "  rank_zero_warn(\n",
      "\u001b[32m[18:00:35] INFO: DataLoader will load 10 graphs (out of 1000 available).\u001b[0m\n",
      "\u001b[36m[18:00:35] DEBUG: First graph is /scratch/gpfs/IOJALVO/gnn-tracking/object_condensation/graphs_v6_cut/part_9/data29000_s0.pt, last graph is /scratch/gpfs/IOJALVO/gnn-tracking/object_condensation/graphs_v6_cut/part_9/data29009_s0.pt\u001b[0m\n",
      "/scratch/gpfs/kl5675/micromamba/envs/gnn/lib/python3.10/site-packages/pytorch_lightning/trainer/connectors/data_connector.py:432: PossibleUserWarning: The dataloader, val_dataloader, does not have many workers which may be a bottleneck. Consider increasing the value of the `num_workers` argument` (try 96 which is the number of cpus on this machine) in the `DataLoader` init to improve performance.\n",
      "  rank_zero_warn(\n"
     ]
    },
    {
     "data": {
      "application/vnd.jupyter.widget-view+json": {
       "model_id": "431795142e4c4a0580a024efdfc44c5b",
       "version_major": 2,
       "version_minor": 0
      },
      "text/plain": [
       "Validation: 0it [00:00, ?it/s]"
      ]
     },
     "metadata": {},
     "output_type": "display_data"
    }
   ],
   "source": [
    "from gnn_tracking.postprocessing.dbscanscanner import DBSCANPerformanceDetails\n",
    "\n",
    "detail_scanner = DBSCANPerformanceDetails(eps=best_eps, min_samples=best_k)\n",
    "lmodel.cluster_scanner = detail_scanner\n",
    "\n",
    "trainer = Trainer(accelerator=\"cpu\")\n",
    "_ = trainer.validate(lmodel, dm, ckpt_path=\"last\", verbose=False)"
   ]
  },
  {
   "cell_type": "code",
   "execution_count": 48,
   "metadata": {
    "collapsed": false
   },
   "outputs": [],
   "source": [
    "h_dfs, c_dfs = detail_scanner.get_results()"
   ]
  },
  {
   "cell_type": "code",
   "execution_count": 25,
   "metadata": {
    "collapsed": false
   },
   "outputs": [],
   "source": [
    "import pickle\n",
    "\n",
    "with Path(\"h_dfs.pkl\").open(\"wb\") as f:\n",
    "    pickle.dump(h_dfs, f)\n",
    "with Path(\"c_dfs.pkl\").open(\"wb\") as f:\n",
    "    pickle.dump(c_dfs, f)"
   ]
  },
  {
   "cell_type": "code",
   "execution_count": 49,
   "metadata": {
    "collapsed": false
   },
   "outputs": [],
   "source": [
    "etas = np.array(np.linspace(-4, 4, 8 * 2 + 1).tolist() + [4.0])\n",
    "vs_eta = tracking_metrics_vs_eta(h_dfs, c_dfs, etas=etas)"
   ]
  },
  {
   "cell_type": "code",
   "execution_count": 63,
   "metadata": {
    "collapsed": false
   },
   "outputs": [],
   "source": []
  },
  {
   "cell_type": "code",
   "execution_count": 65,
   "metadata": {
    "collapsed": false
   },
   "outputs": [
    {
     "data": {
      "text/plain": [
       "(21,)"
      ]
     },
     "execution_count": 65,
     "metadata": {},
     "output_type": "execute_result"
    }
   ],
   "source": [
    "etas.shape"
   ]
  },
  {
   "cell_type": "code",
   "execution_count": 53,
   "metadata": {
    "collapsed": false
   },
   "outputs": [],
   "source": [
    "vs_eta_uul = pd.read_csv(\n",
    "    \"/home/kl5675/Documents/23/git_sync/hyperparameter_optimization2/scripts/legacy/vs_eta_gc.csv\"\n",
    ")"
   ]
  },
  {
   "cell_type": "code",
   "execution_count": 51,
   "metadata": {
    "collapsed": false
   },
   "outputs": [],
   "source": [
    "# vs_eta_cc = pd.read_csv(\"/home/kl5675/Documents/23/git_sync/hyperparameter_optimization2/scripts/legacy/vs_eta_cc.csv\")"
   ]
  },
  {
   "cell_type": "code",
   "execution_count": 73,
   "metadata": {
    "collapsed": false
   },
   "outputs": [
    {
     "data": {
      "image/png": "[encoded data removed]",
      "text/plain": [
       "<Figure size 800x600 with 1 Axes>"
      ]
     },
     "metadata": {},
     "output_type": "display_data"
    }
   ],
   "source": [
    "from gnn_tracking.analysis.efficicies import PerformanceComparisonPlot\n",
    "\n",
    "p = PerformanceComparisonPlot(\n",
    "    xs=etas, var=\"perfect\", x_label=vm[\"eta\"].latex, ylabel=vm[\"perfect_pt0.9\"].latex\n",
    ")\n",
    "p.ax.set_ylim(0.0, 1.25)\n",
    "p.plot_var(vs_eta_uul, label=\"Perfect EC upper bound (graph construction)\", color=\"C0\")\n",
    "# p.plot_var(vs_eta_ul, label=\"Perfect EC upper bound (EF)\", color=\"C1\")\n",
    "p.plot_var(vs_eta, label=\"Object condensation\", color=\"C2\")\n",
    "# p.plot_var(vs_eta_cc, label=\"Connected components (EF)\", color=\"C3\")\n",
    "p.add_legend()\n",
    "p.ax.get_figure().savefig(\"vs_eta_dm_broken_graphs.pdf\")"
   ]
  },
  {
   "cell_type": "code",
   "execution_count": null,
   "metadata": {
    "collapsed": false
   },
   "outputs": [],
   "source": []
  }
 ],
 "metadata": {
  "kernelspec": {
   "display_name": "Python 3",
   "language": "python",
   "name": "python3"
  },
  "language_info": {
   "codemirror_mode": {
    "name": "ipython",
    "version": 2
   },
   "file_extension": ".py",
   "mimetype": "text/x-python",
   "name": "python",
   "nbconvert_exporter": "python",
   "pygments_lexer": "ipython2",
   "version": "2.7.6"
  }
 },
 "nbformat": 4,
 "nbformat_minor": 0
}
