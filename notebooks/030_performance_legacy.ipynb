{
 "cells": [
  {
   "cell_type": "code",
   "execution_count": 5,
   "metadata": {
    "collapsed": false
   },
   "outputs": [],
   "source": [
    "from matplotlib import pyplot as plt\n",
    "\n",
    "import pandas as pd\n",
    "\n",
    "from pytorch_lightning import Trainer\n",
    "\n",
    "from gnn_tracking.postprocessing.dbscanscanner import DBSCANHyperParamScannerFixed\n",
    "from gnn_tracking.training.tc import TCModule\n",
    "from pytorch_lightning.utilities.model_summary import ModelSummary\n",
    "from ocpaper231.plotutils import Plot\n",
    "from gnn_tracking.metrics.cluster_metrics import (\n",
    "    tracking_metrics_vs_pt,\n",
    "    tracking_metrics_vs_eta,\n",
    ")\n",
    "from torch_geometric.utils import index_to_mask\n",
    "from torch_geometric.data import Data\n",
    "import scienceplots\n",
    "from gnn_tracking.utils.loading import TrackingDataModule\n",
    "import numpy as np\n",
    "\n",
    "\n",
    "plt.style.use([\"science\", \"notebook\"])\n",
    "from ocpaper231.data import model_exchange_path\n",
    "from ocpaper231.names import variable_manager as vm"
   ]
  },
  {
   "cell_type": "code",
   "execution_count": 6,
   "metadata": {
    "collapsed": false
   },
   "outputs": [
    {
     "name": "stderr",
     "output_type": "stream",
     "text": [
      "\u001b[32m[22:42:13] INFO: DataLoader will load 719 graphs (out of 719 available).\u001b[0m\n",
      "\u001b[36m[22:42:13] DEBUG: First graph is /scratch/gpfs/IOJALVO/gnn-tracking/object_condensation/graphs_v8_cut/part_1/data21000_s0.pt, last graph is /scratch/gpfs/IOJALVO/gnn-tracking/object_condensation/graphs_v8_cut/part_1/data21999_s0.pt\u001b[0m\n",
      "\u001b[32m[22:42:14] INFO: DataLoader will load 10 graphs (out of 801 available).\u001b[0m\n",
      "\u001b[36m[22:42:14] DEBUG: First graph is /scratch/gpfs/IOJALVO/gnn-tracking/object_condensation/graphs_v8_cut/part_9/data29000_s0.pt, last graph is /scratch/gpfs/IOJALVO/gnn-tracking/object_condensation/graphs_v8_cut/part_9/data29009_s0.pt\u001b[0m\n"
     ]
    }
   ],
   "source": [
    "dm = TrackingDataModule(\n",
    "    train=dict(\n",
    "        dirs=[\n",
    "            \"/scratch/gpfs/IOJALVO/gnn-tracking/object_condensation/graphs_v8_cut/part_1/\"\n",
    "        ],\n",
    "    ),\n",
    "    val=dict(\n",
    "        dirs=[\n",
    "            \"/scratch/gpfs/IOJALVO/gnn-tracking/object_condensation/graphs_v8_cut/part_9/\"\n",
    "        ],\n",
    "        stop=10,\n",
    "    ),\n",
    ")\n",
    "dm.setup(stage=\"fit\")"
   ]
  },
  {
   "cell_type": "code",
   "execution_count": 7,
   "metadata": {
    "collapsed": false
   },
   "outputs": [],
   "source": [
    "from gnn_tracking.utils.lightning import find_latest_checkpoint\n",
    "from pathlib import Path\n",
    "\n",
    "\n",
    "model = \"chirpy-delicate-jaguarundi\"\n",
    "chkpt_path = find_latest_checkpoint(\n",
    "    Path(\n",
    "        f\"/home/kl5675/Documents/23/git_sync/hyperparameter_optimization2/scripts/legacy/lightning_logs/\"\n",
    "    ),\n",
    "    model,\n",
    ")"
   ]
  },
  {
   "cell_type": "code",
   "execution_count": 8,
   "metadata": {
    "collapsed": false
   },
   "outputs": [
    {
     "data": {
      "text/plain": [
       "PosixPath('/home/kl5675/Documents/23/git_sync/hyperparameter_optimization2/scripts/legacy/lightning_logs/chirpy-delicate-jaguarundi/checkpoints/epoch=90-step=698400.ckpt')"
      ]
     },
     "execution_count": 8,
     "metadata": {},
     "output_type": "execute_result"
    }
   ],
   "source": [
    "chkpt_path"
   ]
  },
  {
   "cell_type": "code",
   "execution_count": 9,
   "metadata": {
    "collapsed": false
   },
   "outputs": [
    {
     "name": "stderr",
     "output_type": "stream",
     "text": [
      "\u001b[36m[22:42:14] DEBUG: Getting class PreTrainedECGraphTCN from module gnn_tracking.models.track_condensation_networks\u001b[0m\n",
      "/scratch/gpfs/kl5675/micromamba/envs/gnn/lib/python3.10/site-packages/pytorch_lightning/utilities/parsing.py:196: UserWarning: Attribute 'hc_in' is an instance of `nn.Module` and is already saved during checkpointing. It is recommended to ignore them using `self.save_hyperparameters(ignore=['hc_in'])`.\n",
      "  rank_zero_warn(\n",
      "\u001b[36m[22:42:14] DEBUG: Getting class PotentialLoss from module gnn_tracking.metrics.losses\u001b[0m\n",
      "\u001b[36m[22:42:14] DEBUG: Getting class BackgroundLoss from module gnn_tracking.metrics.losses\u001b[0m\n",
      "\u001b[36m[22:42:14] DEBUG: Getting class DBSCANHyperParamScanner from module gnn_tracking.postprocessing.dbscanscanner\u001b[0m\n"
     ]
    }
   ],
   "source": [
    "lmodel = TCModule.load_from_checkpoint(chkpt_path, map_location=\"cpu\")"
   ]
  },
  {
   "cell_type": "markdown",
   "metadata": {
    "collapsed": false
   },
   "source": [
    "# VS EPS"
   ]
  },
  {
   "cell_type": "code",
   "execution_count": 10,
   "metadata": {
    "collapsed": false
   },
   "outputs": [],
   "source": [
    "eps = np.linspace(0.001, 1, 80)\n",
    "ks = [1]  # np.arange(1, 5)\n",
    "trials = []\n",
    "for e in eps:\n",
    "    for k in ks:\n",
    "        trials.append({\"eps\": e, \"min_samples\": k})\n",
    "\n",
    "eps_scanner = DBSCANHyperParamScannerFixed(\n",
    "    trials=trials,\n",
    ")\n",
    "lmodel.cluster_scanner = eps_scanner"
   ]
  },
  {
   "cell_type": "code",
   "execution_count": 11,
   "metadata": {
    "collapsed": false
   },
   "outputs": [],
   "source": [
    "# class OrphanRemover:\n",
    "#     def __call__(self, data: Data):\n",
    "#         connected_nodes = data.edge_index.flatten().unique()\n",
    "#         hit_mask = index_to_mask(connected_nodes, size=data.num_nodes)\n",
    "#         ofrac = 1 - hit_mask.sum() / data.num_nodes\n",
    "#         print(f\"Removed {ofrac:.2%} of nodes\")\n",
    "#         return data.subgraph(hit_mask)"
   ]
  },
  {
   "cell_type": "code",
   "execution_count": 12,
   "metadata": {
    "collapsed": false
   },
   "outputs": [
    {
     "data": {
      "text/plain": [
       "  | Name            | Type                 | Params\n",
       "---------------------------------------------------------\n",
       "0 | model           | PreTrainedECGraphTCN | 1.9 M \n",
       "1 | potential_loss  | PotentialLoss        | 0     \n",
       "2 | background_loss | BackgroundLoss       | 0     \n",
       "---------------------------------------------------------\n",
       "1.9 M     Trainable params\n",
       "0         Non-trainable params\n",
       "1.9 M     Total params\n",
       "7.579     Total estimated model params size (MB)"
      ]
     },
     "execution_count": 12,
     "metadata": {},
     "output_type": "execute_result"
    }
   ],
   "source": [
    "ModelSummary(lmodel)"
   ]
  },
  {
   "cell_type": "code",
   "execution_count": 13,
   "metadata": {
    "collapsed": false
   },
   "outputs": [
    {
     "name": "stderr",
     "output_type": "stream",
     "text": [
      "/scratch/gpfs/kl5675/micromamba/envs/gnn/lib/python3.10/site-packages/lightning_fabric/plugins/environments/slurm.py:165: PossibleUserWarning: The `srun` command is available on your system but is not used. HINT: If your intention is to run Lightning on SLURM, prepend your python command with `srun` like so: srun python /scratch/gpfs/kl5675/micromamba/envs/gnn/lib/python3 ...\n",
      "  rank_zero_warn(\n",
      "/scratch/gpfs/kl5675/micromamba/envs/gnn/lib/python3.10/site-packages/torch/cuda/__init__.py:546: UserWarning: Can't initialize NVML\n",
      "  warnings.warn(\"Can't initialize NVML\")\n",
      "GPU available: False, used: False\n",
      "TPU available: False, using: 0 TPU cores\n",
      "IPU available: False, using: 0 IPUs\n",
      "HPU available: False, using: 0 HPUs\n"
     ]
    }
   ],
   "source": [
    "trainer = Trainer(accelerator=\"cpu\")"
   ]
  },
  {
   "cell_type": "code",
   "execution_count": 14,
   "metadata": {
    "collapsed": false
   },
   "outputs": [
    {
     "name": "stderr",
     "output_type": "stream",
     "text": [
      "/scratch/gpfs/kl5675/micromamba/envs/gnn/lib/python3.10/site-packages/pytorch_lightning/trainer/connectors/checkpoint_connector.py:189: UserWarning: .validate(ckpt_path=\"last\") is set, but there is no last checkpoint available. No checkpoint will be loaded.\n",
      "  rank_zero_warn(\n",
      "\u001b[32m[22:43:22] INFO: DataLoader will load 10 graphs (out of 801 available).\u001b[0m\n",
      "\u001b[36m[22:43:22] DEBUG: First graph is /scratch/gpfs/IOJALVO/gnn-tracking/object_condensation/graphs_v8_cut/part_9/data29000_s0.pt, last graph is /scratch/gpfs/IOJALVO/gnn-tracking/object_condensation/graphs_v8_cut/part_9/data29009_s0.pt\u001b[0m\n",
      "/scratch/gpfs/kl5675/micromamba/envs/gnn/lib/python3.10/site-packages/pytorch_lightning/trainer/connectors/data_connector.py:432: PossibleUserWarning: The dataloader, val_dataloader, does not have many workers which may be a bottleneck. Consider increasing the value of the `num_workers` argument` (try 96 which is the number of cpus on this machine) in the `DataLoader` init to improve performance.\n",
      "  rank_zero_warn(\n"
     ]
    },
    {
     "data": {
      "application/vnd.jupyter.widget-view+json": {
       "model_id": "0cead1dc1b1141bdbb7e40317bd65937",
       "version_major": 2,
       "version_minor": 0
      },
      "text/plain": [
       "Validation: 0it [00:00, ?it/s]"
      ]
     },
     "metadata": {},
     "output_type": "display_data"
    },
    {
     "name": "stderr",
     "output_type": "stream",
     "text": [
      "NaN or Inf found in input tensor.\n",
      "NaN or Inf found in input tensor.\n"
     ]
    }
   ],
   "source": [
    "_ = trainer.validate(lmodel, dm, ckpt_path=\"last\", verbose=False)"
   ]
  },
  {
   "cell_type": "code",
   "execution_count": 15,
   "metadata": {
    "collapsed": false
   },
   "outputs": [
    {
     "name": "stdout",
     "output_type": "stream",
     "text": [
      "test\n"
     ]
    }
   ],
   "source": [
    "print(\"test\")"
   ]
  },
  {
   "cell_type": "code",
   "execution_count": 17,
   "metadata": {
    "collapsed": false
   },
   "outputs": [
    {
     "data": {
      "image/png": "[encoded data removed]",
      "text/plain": [
       "<Figure size 800x600 with 1 Axes>"
      ]
     },
     "metadata": {},
     "output_type": "display_data"
    }
   ],
   "source": [
    "from pathlib import Path\n",
    "from gnn_tracking.analysis.efficiencies import TracksVsDBSCANPlot\n",
    "\n",
    "tvdp = TracksVsDBSCANPlot(\n",
    "    mean_df=eps_scanner.get_results().df_mean,\n",
    "    # model=model,\n",
    "    # watermark=\"outdated\",\n",
    ")\n",
    "tvdp.plot_var(\"double_majority_pt0.9\")\n",
    "tvdp.plot_var(\"lhc_pt0.9\")\n",
    "tvdp.plot_var(\"perfect_pt0.9\")\n",
    "tvdp.ax.legend()\n",
    "tvdp.ax.axhline(0.977064, color=\"C0\", ls=\":\")\n",
    "tvdp.ax.axhline(0.7907116988303107, color=\"C0\", ls=\":\")\n",
    "tvdp.ax.axhline(0.920599, color=\"C2\", ls=\":\")\n",
    "tvdp.ax.axhline(0.417143, color=\"C2\", ls=\":\")\n",
    "tvdp.ax.get_figure().savefig(\"performance_vs_eps.pdf\")"
   ]
  },
  {
   "cell_type": "code",
   "execution_count": 18,
   "metadata": {
    "collapsed": false
   },
   "outputs": [
    {
     "data": {
      "text/plain": [
       "0.9511453517715154"
      ]
     },
     "execution_count": 18,
     "metadata": {},
     "output_type": "execute_result"
    }
   ],
   "source": [
    "tvdp.df[\"double_majority_pt0.9\"].max()"
   ]
  },
  {
   "cell_type": "code",
   "execution_count": 19,
   "metadata": {
    "collapsed": false
   },
   "outputs": [],
   "source": [
    "max_dm_idx = tvdp.df[\"double_majority_pt0.9\"].argmax()"
   ]
  },
  {
   "cell_type": "code",
   "execution_count": 27,
   "metadata": {
    "collapsed": false
   },
   "outputs": [
    {
     "data": {
      "text/plain": [
       "0.27920253164556963"
      ]
     },
     "execution_count": 27,
     "metadata": {},
     "output_type": "execute_result"
    }
   ],
   "source": [
    "max_dm_eps = tvdp.df.loc[max_dm_idx][\"eps\"]\n",
    "max_dm_eps"
   ]
  },
  {
   "cell_type": "code",
   "execution_count": 87,
   "metadata": {
    "collapsed": false
   },
   "outputs": [
    {
     "data": {
      "text/plain": [
       "fake_double_majority_pt0.9    0.016611\n",
       "Name: 22, dtype: float64"
      ]
     },
     "execution_count": 87,
     "metadata": {},
     "output_type": "execute_result"
    }
   ],
   "source": [
    "tvdp.df.loc[max_dm_idx][[\"fake_double_majority_pt0.9\"]]"
   ]
  },
  {
   "cell_type": "code",
   "execution_count": 23,
   "metadata": {
    "collapsed": false
   },
   "outputs": [
    {
     "data": {
      "text/plain": [
       "0.802209455554714"
      ]
     },
     "execution_count": 23,
     "metadata": {},
     "output_type": "execute_result"
    }
   ],
   "source": [
    "tvdp.df[\"perfect_pt0.9\"].max()"
   ]
  },
  {
   "cell_type": "code",
   "execution_count": 19,
   "metadata": {
    "collapsed": false
   },
   "outputs": [
    {
     "data": {
      "text/html": [
       "<div>\n",
       "<style scoped>\n",
       "    .dataframe tbody tr th:only-of-type {\n",
       "        vertical-align: middle;\n",
       "    }\n",
       "\n",
       "    .dataframe tbody tr th {\n",
       "        vertical-align: top;\n",
       "    }\n",
       "\n",
       "    .dataframe thead th {\n",
       "        text-align: right;\n",
       "    }\n",
       "</style>\n",
       "<table border=\"1\" class=\"dataframe\">\n",
       "  <thead>\n",
       "    <tr style=\"text-align: right;\">\n",
       "      <th></th>\n",
       "      <th>eps</th>\n",
       "      <th>double_majority_pt0.9</th>\n",
       "    </tr>\n",
       "  </thead>\n",
       "  <tbody>\n",
       "    <tr>\n",
       "      <th>4</th>\n",
       "      <td>0.111538</td>\n",
       "      <td>0.903718</td>\n",
       "    </tr>\n",
       "    <tr>\n",
       "      <th>5</th>\n",
       "      <td>0.136923</td>\n",
       "      <td>0.921044</td>\n",
       "    </tr>\n",
       "    <tr>\n",
       "      <th>6</th>\n",
       "      <td>0.162308</td>\n",
       "      <td>0.933125</td>\n",
       "    </tr>\n",
       "    <tr>\n",
       "      <th>7</th>\n",
       "      <td>0.187692</td>\n",
       "      <td>0.940753</td>\n",
       "    </tr>\n",
       "    <tr>\n",
       "      <th>8</th>\n",
       "      <td>0.213077</td>\n",
       "      <td>0.945495</td>\n",
       "    </tr>\n",
       "    <tr>\n",
       "      <th>9</th>\n",
       "      <td>0.238462</td>\n",
       "      <td>0.948407</td>\n",
       "    </tr>\n",
       "    <tr>\n",
       "      <th>10</th>\n",
       "      <td>0.263846</td>\n",
       "      <td>0.950337</td>\n",
       "    </tr>\n",
       "    <tr>\n",
       "      <th>11</th>\n",
       "      <td>0.289231</td>\n",
       "      <td>0.951092</td>\n",
       "    </tr>\n",
       "    <tr>\n",
       "      <th>12</th>\n",
       "      <td>0.314615</td>\n",
       "      <td>0.949621</td>\n",
       "    </tr>\n",
       "    <tr>\n",
       "      <th>13</th>\n",
       "      <td>0.340000</td>\n",
       "      <td>0.947149</td>\n",
       "    </tr>\n",
       "    <tr>\n",
       "      <th>14</th>\n",
       "      <td>0.365385</td>\n",
       "      <td>0.944599</td>\n",
       "    </tr>\n",
       "    <tr>\n",
       "      <th>15</th>\n",
       "      <td>0.390769</td>\n",
       "      <td>0.940222</td>\n",
       "    </tr>\n",
       "    <tr>\n",
       "      <th>16</th>\n",
       "      <td>0.416154</td>\n",
       "      <td>0.933970</td>\n",
       "    </tr>\n",
       "    <tr>\n",
       "      <th>17</th>\n",
       "      <td>0.441538</td>\n",
       "      <td>0.925009</td>\n",
       "    </tr>\n",
       "    <tr>\n",
       "      <th>18</th>\n",
       "      <td>0.466923</td>\n",
       "      <td>0.914033</td>\n",
       "    </tr>\n",
       "    <tr>\n",
       "      <th>19</th>\n",
       "      <td>0.492308</td>\n",
       "      <td>0.902562</td>\n",
       "    </tr>\n",
       "  </tbody>\n",
       "</table>\n",
       "</div>"
      ],
      "text/plain": [
       "         eps  double_majority_pt0.9\n",
       "4   0.111538               0.903718\n",
       "5   0.136923               0.921044\n",
       "6   0.162308               0.933125\n",
       "7   0.187692               0.940753\n",
       "8   0.213077               0.945495\n",
       "9   0.238462               0.948407\n",
       "10  0.263846               0.950337\n",
       "11  0.289231               0.951092\n",
       "12  0.314615               0.949621\n",
       "13  0.340000               0.947149\n",
       "14  0.365385               0.944599\n",
       "15  0.390769               0.940222\n",
       "16  0.416154               0.933970\n",
       "17  0.441538               0.925009\n",
       "18  0.466923               0.914033\n",
       "19  0.492308               0.902562"
      ]
     },
     "execution_count": 19,
     "metadata": {},
     "output_type": "execute_result"
    }
   ],
   "source": [
    "df = tvdp.df\n",
    "r = df.query(\"(`double_majority_pt0.9` > 0.9) & (min_samples == 1)\")[\n",
    "    [\"eps\", \"double_majority_pt0.9\"]\n",
    "]\n",
    "r"
   ]
  },
  {
   "cell_type": "markdown",
   "metadata": {
    "collapsed": false
   },
   "source": [
    "\n",
    "# vs pt and eta"
   ]
  },
  {
   "cell_type": "markdown",
   "metadata": {
    "collapsed": false
   },
   "source": [
    "## Upper bound"
   ]
  },
  {
   "cell_type": "code",
   "execution_count": 29,
   "metadata": {
    "collapsed": false
   },
   "outputs": [],
   "source": [
    "from gnn_tracking.metrics.cluster_metrics import (\n",
    "    tracking_metrics_data,\n",
    "    tracking_metric_df,\n",
    ")\n",
    "from gnn_tracking.analysis.graphs import get_cc_labels\n",
    "import pandas as pd\n",
    "\n",
    "\n",
    "def get_truth_hc_dfs(dm):\n",
    "    h_dfs = []\n",
    "    c_dfs = []\n",
    "    for data in dm.val_dataloader():\n",
    "        y = data.y.bool()\n",
    "        ei = data.edge_index[:, y]\n",
    "        labels = get_cc_labels(ei, num_nodes=data.num_nodes)\n",
    "        h_df = pd.DataFrame(\n",
    "            {\n",
    "                \"c\": labels,\n",
    "                \"id\": data.particle_id,\n",
    "                \"pt\": data.pt,\n",
    "                \"reconstructable\": data.reconstructable,\n",
    "                \"eta\": data.eta,\n",
    "            }\n",
    "        )\n",
    "        c_df = tracking_metric_df(h_df)\n",
    "        h_dfs.append(h_df)\n",
    "        c_dfs.append(c_df)\n",
    "    return h_dfs, c_dfs"
   ]
  },
  {
   "cell_type": "code",
   "execution_count": 30,
   "metadata": {
    "collapsed": false
   },
   "outputs": [],
   "source": [
    "from gnn_tracking.metrics.cluster_metrics import tracking_metrics_vs_pt\n",
    "\n",
    "\n",
    "h_dfs, c_dfs = get_truth_hc_dfs(dm)"
   ]
  },
  {
   "cell_type": "code",
   "execution_count": 31,
   "metadata": {
    "collapsed": false
   },
   "outputs": [],
   "source": [
    "import numpy as np\n",
    "\n",
    "pts = np.array(np.arange(0, 3, 0.3).tolist() + [5.0])"
   ]
  },
  {
   "cell_type": "code",
   "execution_count": 32,
   "metadata": {
    "collapsed": false
   },
   "outputs": [],
   "source": [
    "vs_pt_ul = tracking_metrics_vs_pt(h_dfs, c_dfs, pts=pts)"
   ]
  },
  {
   "cell_type": "code",
   "execution_count": 33,
   "metadata": {
    "collapsed": false
   },
   "outputs": [
    {
     "data": {
      "text/html": [
       "<div>\n",
       "<style scoped>\n",
       "    .dataframe tbody tr th:only-of-type {\n",
       "        vertical-align: middle;\n",
       "    }\n",
       "\n",
       "    .dataframe tbody tr th {\n",
       "        vertical-align: top;\n",
       "    }\n",
       "\n",
       "    .dataframe thead th {\n",
       "        text-align: right;\n",
       "    }\n",
       "</style>\n",
       "<table border=\"1\" class=\"dataframe\">\n",
       "  <thead>\n",
       "    <tr style=\"text-align: right;\">\n",
       "      <th></th>\n",
       "      <th>n_particles</th>\n",
       "      <th>n_cleaned_clusters</th>\n",
       "      <th>perfect</th>\n",
       "      <th>double_majority</th>\n",
       "      <th>lhc</th>\n",
       "      <th>fake_perfect</th>\n",
       "      <th>fake_double_majority</th>\n",
       "      <th>fake_lhc</th>\n",
       "      <th>n_particles_err</th>\n",
       "      <th>n_cleaned_clusters_err</th>\n",
       "      <th>perfect_err</th>\n",
       "      <th>double_majority_err</th>\n",
       "      <th>lhc_err</th>\n",
       "      <th>fake_perfect_err</th>\n",
       "      <th>fake_double_majority_err</th>\n",
       "      <th>fake_lhc_err</th>\n",
       "      <th>pt_min</th>\n",
       "      <th>pt_max</th>\n",
       "    </tr>\n",
       "  </thead>\n",
       "  <tbody>\n",
       "    <tr>\n",
       "      <th>0</th>\n",
       "      <td>2118.5</td>\n",
       "      <td>199.0</td>\n",
       "      <td>0.014151</td>\n",
       "      <td>0.046852</td>\n",
       "      <td>1.0</td>\n",
       "      <td>0.848750</td>\n",
       "      <td>0.498319</td>\n",
       "      <td>0.0</td>\n",
       "      <td>49.677683</td>\n",
       "      <td>8.975275</td>\n",
       "      <td>0.000871</td>\n",
       "      <td>0.001304</td>\n",
       "      <td>0.0</td>\n",
       "      <td>0.008830</td>\n",
       "      <td>0.012161</td>\n",
       "      <td>0.0</td>\n",
       "      <td>0.0</td>\n",
       "      <td>0.3</td>\n",
       "    </tr>\n",
       "    <tr>\n",
       "      <th>1</th>\n",
       "      <td>2954.2</td>\n",
       "      <td>1049.0</td>\n",
       "      <td>0.115386</td>\n",
       "      <td>0.258172</td>\n",
       "      <td>1.0</td>\n",
       "      <td>0.674860</td>\n",
       "      <td>0.272880</td>\n",
       "      <td>0.0</td>\n",
       "      <td>85.052115</td>\n",
       "      <td>31.404175</td>\n",
       "      <td>0.001675</td>\n",
       "      <td>0.002695</td>\n",
       "      <td>0.0</td>\n",
       "      <td>0.005299</td>\n",
       "      <td>0.005097</td>\n",
       "      <td>0.0</td>\n",
       "      <td>0.3</td>\n",
       "      <td>0.6</td>\n",
       "    </tr>\n",
       "    <tr>\n",
       "      <th>2</th>\n",
       "      <td>1322.1</td>\n",
       "      <td>1016.5</td>\n",
       "      <td>0.488217</td>\n",
       "      <td>0.715185</td>\n",
       "      <td>1.0</td>\n",
       "      <td>0.365076</td>\n",
       "      <td>0.069904</td>\n",
       "      <td>0.0</td>\n",
       "      <td>45.769580</td>\n",
       "      <td>35.231063</td>\n",
       "      <td>0.005601</td>\n",
       "      <td>0.004451</td>\n",
       "      <td>0.0</td>\n",
       "      <td>0.006243</td>\n",
       "      <td>0.002305</td>\n",
       "      <td>0.0</td>\n",
       "      <td>0.6</td>\n",
       "      <td>0.9</td>\n",
       "    </tr>\n",
       "    <tr>\n",
       "      <th>3</th>\n",
       "      <td>600.4</td>\n",
       "      <td>598.5</td>\n",
       "      <td>0.910135</td>\n",
       "      <td>0.970916</td>\n",
       "      <td>1.0</td>\n",
       "      <td>0.087199</td>\n",
       "      <td>0.026284</td>\n",
       "      <td>0.0</td>\n",
       "      <td>17.710135</td>\n",
       "      <td>16.972690</td>\n",
       "      <td>0.004792</td>\n",
       "      <td>0.002186</td>\n",
       "      <td>0.0</td>\n",
       "      <td>0.005671</td>\n",
       "      <td>0.002334</td>\n",
       "      <td>0.0</td>\n",
       "      <td>0.9</td>\n",
       "      <td>1.2</td>\n",
       "    </tr>\n",
       "    <tr>\n",
       "      <th>4</th>\n",
       "      <td>309.0</td>\n",
       "      <td>310.0</td>\n",
       "      <td>0.926058</td>\n",
       "      <td>0.981506</td>\n",
       "      <td>1.0</td>\n",
       "      <td>0.076923</td>\n",
       "      <td>0.021681</td>\n",
       "      <td>0.0</td>\n",
       "      <td>8.884443</td>\n",
       "      <td>8.899438</td>\n",
       "      <td>0.003062</td>\n",
       "      <td>0.001734</td>\n",
       "      <td>0.0</td>\n",
       "      <td>0.004184</td>\n",
       "      <td>0.002496</td>\n",
       "      <td>0.0</td>\n",
       "      <td>1.2</td>\n",
       "      <td>1.5</td>\n",
       "    </tr>\n",
       "    <tr>\n",
       "      <th>5</th>\n",
       "      <td>185.5</td>\n",
       "      <td>187.2</td>\n",
       "      <td>0.930837</td>\n",
       "      <td>0.985383</td>\n",
       "      <td>1.0</td>\n",
       "      <td>0.077333</td>\n",
       "      <td>0.023303</td>\n",
       "      <td>0.0</td>\n",
       "      <td>5.895855</td>\n",
       "      <td>6.086050</td>\n",
       "      <td>0.007012</td>\n",
       "      <td>0.002762</td>\n",
       "      <td>0.0</td>\n",
       "      <td>0.007611</td>\n",
       "      <td>0.003231</td>\n",
       "      <td>0.0</td>\n",
       "      <td>1.5</td>\n",
       "      <td>1.8</td>\n",
       "    </tr>\n",
       "    <tr>\n",
       "      <th>6</th>\n",
       "      <td>102.6</td>\n",
       "      <td>102.4</td>\n",
       "      <td>0.938673</td>\n",
       "      <td>0.984917</td>\n",
       "      <td>1.0</td>\n",
       "      <td>0.060059</td>\n",
       "      <td>0.013738</td>\n",
       "      <td>0.0</td>\n",
       "      <td>2.565584</td>\n",
       "      <td>2.271563</td>\n",
       "      <td>0.005946</td>\n",
       "      <td>0.004676</td>\n",
       "      <td>0.0</td>\n",
       "      <td>0.005376</td>\n",
       "      <td>0.004249</td>\n",
       "      <td>0.0</td>\n",
       "      <td>1.8</td>\n",
       "      <td>2.1</td>\n",
       "    </tr>\n",
       "    <tr>\n",
       "      <th>7</th>\n",
       "      <td>64.8</td>\n",
       "      <td>65.0</td>\n",
       "      <td>0.934201</td>\n",
       "      <td>0.990923</td>\n",
       "      <td>1.0</td>\n",
       "      <td>0.067831</td>\n",
       "      <td>0.010932</td>\n",
       "      <td>0.0</td>\n",
       "      <td>3.717227</td>\n",
       "      <td>3.855732</td>\n",
       "      <td>0.011785</td>\n",
       "      <td>0.005234</td>\n",
       "      <td>0.0</td>\n",
       "      <td>0.008608</td>\n",
       "      <td>0.004138</td>\n",
       "      <td>0.0</td>\n",
       "      <td>2.1</td>\n",
       "      <td>2.4</td>\n",
       "    </tr>\n",
       "    <tr>\n",
       "      <th>8</th>\n",
       "      <td>42.1</td>\n",
       "      <td>42.1</td>\n",
       "      <td>0.926886</td>\n",
       "      <td>0.975503</td>\n",
       "      <td>1.0</td>\n",
       "      <td>0.072666</td>\n",
       "      <td>0.024128</td>\n",
       "      <td>0.0</td>\n",
       "      <td>3.219558</td>\n",
       "      <td>3.181369</td>\n",
       "      <td>0.009708</td>\n",
       "      <td>0.008234</td>\n",
       "      <td>0.0</td>\n",
       "      <td>0.011735</td>\n",
       "      <td>0.009864</td>\n",
       "      <td>0.0</td>\n",
       "      <td>2.4</td>\n",
       "      <td>2.7</td>\n",
       "    </tr>\n",
       "    <tr>\n",
       "      <th>9</th>\n",
       "      <td>79.7</td>\n",
       "      <td>80.3</td>\n",
       "      <td>0.922780</td>\n",
       "      <td>0.987133</td>\n",
       "      <td>1.0</td>\n",
       "      <td>0.083402</td>\n",
       "      <td>0.019470</td>\n",
       "      <td>0.0</td>\n",
       "      <td>2.440628</td>\n",
       "      <td>2.641759</td>\n",
       "      <td>0.007555</td>\n",
       "      <td>0.003412</td>\n",
       "      <td>0.0</td>\n",
       "      <td>0.007614</td>\n",
       "      <td>0.003968</td>\n",
       "      <td>0.0</td>\n",
       "      <td>2.7</td>\n",
       "      <td>5.0</td>\n",
       "    </tr>\n",
       "  </tbody>\n",
       "</table>\n",
       "</div>"
      ],
      "text/plain": [
       "   n_particles  n_cleaned_clusters   perfect  double_majority  lhc  \\\n",
       "0       2118.5               199.0  0.014151         0.046852  1.0   \n",
       "1       2954.2              1049.0  0.115386         0.258172  1.0   \n",
       "2       1322.1              1016.5  0.488217         0.715185  1.0   \n",
       "3        600.4               598.5  0.910135         0.970916  1.0   \n",
       "4        309.0               310.0  0.926058         0.981506  1.0   \n",
       "5        185.5               187.2  0.930837         0.985383  1.0   \n",
       "6        102.6               102.4  0.938673         0.984917  1.0   \n",
       "7         64.8                65.0  0.934201         0.990923  1.0   \n",
       "8         42.1                42.1  0.926886         0.975503  1.0   \n",
       "9         79.7                80.3  0.922780         0.987133  1.0   \n",
       "\n",
       "   fake_perfect  fake_double_majority  fake_lhc  n_particles_err  \\\n",
       "0      0.848750              0.498319       0.0        49.677683   \n",
       "1      0.674860              0.272880       0.0        85.052115   \n",
       "2      0.365076              0.069904       0.0        45.769580   \n",
       "3      0.087199              0.026284       0.0        17.710135   \n",
       "4      0.076923              0.021681       0.0         8.884443   \n",
       "5      0.077333              0.023303       0.0         5.895855   \n",
       "6      0.060059              0.013738       0.0         2.565584   \n",
       "7      0.067831              0.010932       0.0         3.717227   \n",
       "8      0.072666              0.024128       0.0         3.219558   \n",
       "9      0.083402              0.019470       0.0         2.440628   \n",
       "\n",
       "   n_cleaned_clusters_err  perfect_err  double_majority_err  lhc_err  \\\n",
       "0                8.975275     0.000871             0.001304      0.0   \n",
       "1               31.404175     0.001675             0.002695      0.0   \n",
       "2               35.231063     0.005601             0.004451      0.0   \n",
       "3               16.972690     0.004792             0.002186      0.0   \n",
       "4                8.899438     0.003062             0.001734      0.0   \n",
       "5                6.086050     0.007012             0.002762      0.0   \n",
       "6                2.271563     0.005946             0.004676      0.0   \n",
       "7                3.855732     0.011785             0.005234      0.0   \n",
       "8                3.181369     0.009708             0.008234      0.0   \n",
       "9                2.641759     0.007555             0.003412      0.0   \n",
       "\n",
       "   fake_perfect_err  fake_double_majority_err  fake_lhc_err  pt_min  pt_max  \n",
       "0          0.008830                  0.012161           0.0     0.0     0.3  \n",
       "1          0.005299                  0.005097           0.0     0.3     0.6  \n",
       "2          0.006243                  0.002305           0.0     0.6     0.9  \n",
       "3          0.005671                  0.002334           0.0     0.9     1.2  \n",
       "4          0.004184                  0.002496           0.0     1.2     1.5  \n",
       "5          0.007611                  0.003231           0.0     1.5     1.8  \n",
       "6          0.005376                  0.004249           0.0     1.8     2.1  \n",
       "7          0.008608                  0.004138           0.0     2.1     2.4  \n",
       "8          0.011735                  0.009864           0.0     2.4     2.7  \n",
       "9          0.007614                  0.003968           0.0     2.7     5.0  "
      ]
     },
     "execution_count": 33,
     "metadata": {},
     "output_type": "execute_result"
    }
   ],
   "source": [
    "vs_pt_ul"
   ]
  },
  {
   "cell_type": "code",
   "execution_count": 34,
   "metadata": {
    "collapsed": false
   },
   "outputs": [],
   "source": [
    "from gnn_tracking.metrics.cluster_metrics import tracking_metrics_vs_eta\n",
    "\n",
    "etas = np.array(np.linspace(-4, 4, 20).tolist() + [4.0])"
   ]
  },
  {
   "cell_type": "code",
   "execution_count": 35,
   "metadata": {
    "collapsed": false
   },
   "outputs": [
    {
     "data": {
      "text/plain": [
       "array([-4.        , -3.57894737, -3.15789474, -2.73684211, -2.31578947,\n",
       "       -1.89473684, -1.47368421, -1.05263158, -0.63157895, -0.21052632,\n",
       "        0.21052632,  0.63157895,  1.05263158,  1.47368421,  1.89473684,\n",
       "        2.31578947,  2.73684211,  3.15789474,  3.57894737,  4.        ,\n",
       "        4.        ])"
      ]
     },
     "execution_count": 35,
     "metadata": {},
     "output_type": "execute_result"
    }
   ],
   "source": [
    "etas"
   ]
  },
  {
   "cell_type": "code",
   "execution_count": 36,
   "metadata": {
    "collapsed": false
   },
   "outputs": [],
   "source": [
    "vs_eta_ul = tracking_metrics_vs_eta(h_dfs, c_dfs, etas=etas)"
   ]
  },
  {
   "cell_type": "code",
   "execution_count": 37,
   "metadata": {
    "collapsed": false
   },
   "outputs": [
    {
     "data": {
      "image/png": "[encoded data removed]",
      "text/plain": [
       "<Figure size 800x600 with 1 Axes>"
      ]
     },
     "metadata": {},
     "output_type": "display_data"
    }
   ],
   "source": [
    "p = PerformancePlot(df=vs_eta_ul, xs=etas, var=vm[\"eta\"].latex)  # , model=model)\n",
    "p.plot_var(\"double_majority\", \"C0\", label=vm[\"double_majority_pt0.9\"].latex)\n",
    "p.plot_var(\"perfect\", \"C2\", label=vm[\"perfect_pt0.9\"].latex)"
   ]
  },
  {
   "cell_type": "code",
   "execution_count": 38,
   "metadata": {
    "collapsed": false
   },
   "outputs": [],
   "source": [
    "from gnn_tracking.metrics.cluster_metrics import tracking_metrics_vs_eta\n",
    "\n",
    "vs_eta_ul = tracking_metrics_vs_eta(h_dfs, c_dfs, etas=etas)"
   ]
  },
  {
   "cell_type": "code",
   "execution_count": 39,
   "metadata": {
    "collapsed": false
   },
   "outputs": [
    {
     "data": {
      "image/png": "[encoded data removed]",
      "text/plain": [
       "<Figure size 800x600 with 1 Axes>"
      ]
     },
     "metadata": {},
     "output_type": "display_data"
    }
   ],
   "source": [
    "p = PerformancePlot(df=vs_eta_ul, xs=etas, var=vm[\"eta\"].latex)  # , model=model)\n",
    "p.plot_var(\"double_majority\", \"C0\", label=vm[\"double_majority_pt0.9\"].latex)\n",
    "p.plot_var(\"perfect\", \"C2\", label=vm[\"perfect_pt0.9\"].latex)"
   ]
  },
  {
   "cell_type": "markdown",
   "metadata": {
    "collapsed": false
   },
   "source": [
    "\n",
    "## Actual performance"
   ]
  },
  {
   "cell_type": "code",
   "execution_count": 40,
   "metadata": {
    "collapsed": false
   },
   "outputs": [],
   "source": [
    "# eyeballed\n",
    "best_eps = max_dm_eps\n",
    "best_k = 1"
   ]
  },
  {
   "cell_type": "code",
   "execution_count": 41,
   "metadata": {
    "collapsed": false
   },
   "outputs": [
    {
     "name": "stderr",
     "output_type": "stream",
     "text": [
      "/scratch/gpfs/kl5675/micromamba/envs/gnn/lib/python3.10/site-packages/lightning_fabric/plugins/environments/slurm.py:165: PossibleUserWarning: The `srun` command is available on your system but is not used. HINT: If your intention is to run Lightning on SLURM, prepend your python command with `srun` like so: srun python /scratch/gpfs/kl5675/micromamba/envs/gnn/lib/python3 ...\n",
      "  rank_zero_warn(\n",
      "GPU available: False, used: False\n",
      "TPU available: False, using: 0 TPU cores\n",
      "IPU available: False, using: 0 IPUs\n",
      "HPU available: False, using: 0 HPUs\n",
      "/scratch/gpfs/kl5675/micromamba/envs/gnn/lib/python3.10/site-packages/pytorch_lightning/trainer/connectors/checkpoint_connector.py:189: UserWarning: .validate(ckpt_path=\"last\") is set, but there is no last checkpoint available. No checkpoint will be loaded.\n",
      "  rank_zero_warn(\n",
      "\u001b[32m[23:03:31] INFO: DataLoader will load 10 graphs (out of 801 available).\u001b[0m\n",
      "\u001b[36m[23:03:31] DEBUG: First graph is /scratch/gpfs/IOJALVO/gnn-tracking/object_condensation/graphs_v8_cut/part_9/data29000_s0.pt, last graph is /scratch/gpfs/IOJALVO/gnn-tracking/object_condensation/graphs_v8_cut/part_9/data29009_s0.pt\u001b[0m\n",
      "/scratch/gpfs/kl5675/micromamba/envs/gnn/lib/python3.10/site-packages/pytorch_lightning/trainer/connectors/data_connector.py:432: PossibleUserWarning: The dataloader, val_dataloader, does not have many workers which may be a bottleneck. Consider increasing the value of the `num_workers` argument` (try 96 which is the number of cpus on this machine) in the `DataLoader` init to improve performance.\n",
      "  rank_zero_warn(\n"
     ]
    },
    {
     "data": {
      "application/vnd.jupyter.widget-view+json": {
       "model_id": "c8e0c9c11c114bc3ae6fb51e212a6331",
       "version_major": 2,
       "version_minor": 0
      },
      "text/plain": [
       "Validation: 0it [00:00, ?it/s]"
      ]
     },
     "metadata": {},
     "output_type": "display_data"
    }
   ],
   "source": [
    "from gnn_tracking.postprocessing.dbscanscanner import DBSCANPerformanceDetails\n",
    "\n",
    "detail_scanner = DBSCANPerformanceDetails(eps=best_eps, min_samples=best_k)\n",
    "lmodel.cluster_scanner = detail_scanner\n",
    "\n",
    "trainer = Trainer(accelerator=\"cpu\")\n",
    "_ = trainer.validate(lmodel, dm, ckpt_path=\"last\", verbose=False)"
   ]
  },
  {
   "cell_type": "code",
   "execution_count": 42,
   "metadata": {
    "collapsed": false
   },
   "outputs": [],
   "source": [
    "h_dfs, c_dfs = detail_scanner.get_results()"
   ]
  },
  {
   "cell_type": "code",
   "execution_count": 25,
   "metadata": {
    "collapsed": false
   },
   "outputs": [],
   "source": [
    "import pickle\n",
    "\n",
    "with Path(\"h_dfs.pkl\").open(\"wb\") as f:\n",
    "    pickle.dump(h_dfs, f)\n",
    "with Path(\"c_dfs.pkl\").open(\"wb\") as f:\n",
    "    pickle.dump(c_dfs, f)"
   ]
  },
  {
   "cell_type": "code",
   "execution_count": 43,
   "metadata": {
    "collapsed": false
   },
   "outputs": [],
   "source": [
    "vs_pt = tracking_metrics_vs_pt(h_dfs, c_dfs, pts=pts)\n",
    "vs_eta = tracking_metrics_vs_eta(h_dfs, c_dfs, etas=etas)"
   ]
  },
  {
   "cell_type": "code",
   "execution_count": 44,
   "metadata": {
    "collapsed": false
   },
   "outputs": [
    {
     "data": {
      "image/png": "[encoded data removed]",
      "text/plain": [
       "<Figure size 800x600 with 1 Axes>"
      ]
     },
     "metadata": {},
     "output_type": "display_data"
    }
   ],
   "source": [
    "p = PerformancePlot(\n",
    "    df=vs_pt, df_ul=None, xs=pts, var=vm[\"pt\"].latex + \" [GeV]\"\n",
    ")  # , model=model)\n",
    "p.add_blocked(0, 0.9)\n",
    "p.plot_var(\"double_majority\", \"C0\")\n",
    "p.plot_var(\"lhc\", \"C1\")\n",
    "p.plot_var(\"perfect\", \"C2\")\n",
    "p.add_legend()\n",
    "p.ax.get_figure().savefig(\"vs_pt.pdf\")"
   ]
  },
  {
   "cell_type": "code",
   "execution_count": 73,
   "metadata": {
    "collapsed": false
   },
   "outputs": [
    {
     "name": "stderr",
     "output_type": "stream",
     "text": [
      "/tmp/ipykernel_2345810/4155649600.py:44: UserWarning: The label '_' of (<matplotlib.patches.StepPatch object at 0x151531bf48b0>, <ErrorbarContainer object of 3 artists>) starts with '_'. It is thus excluded from the legend.\n",
      "  self.ax.legend(all_handles, all_labels, **kwargs)\n"
     ]
    },
    {
     "data": {
      "image/png": "[encoded data removed]",
      "text/plain": [
       "<Figure size 800x600 with 2 Axes>"
      ]
     },
     "metadata": {},
     "output_type": "display_data"
    }
   ],
   "source": [
    "p = PerformancePlot(\n",
    "    df=vs_pt,\n",
    "    df_ul=None,\n",
    "    xs=pts,\n",
    "    var=vm[\"pt\"].latex + \" [GeV]\",\n",
    "    y_label=r\"$f^{\\,\\,\\mathrm{DM}}$\",\n",
    ")\n",
    "p.add_blocked(0, 0.9)\n",
    "# p.ax.set_ylim(0., 0.05)\n",
    "p.plot_var(\"fake_double_majority\", \"C0\", label=\"_\")\n",
    "p.add_legend()\n",
    "\n",
    "left, bottom, width, height = [0.45, 0.25, 0.4, 0.5]\n",
    "ax2 = p.ax.get_figure().add_axes([left, bottom, width, height])\n",
    "p = PerformancePlot(df=vs_pt, df_ul=None, xs=pts, var=\"\", y_label=\"\", ax=ax2)\n",
    "p.add_blocked(0, 0.9)\n",
    "p.ax.set_xlim(0.75, 5.8)\n",
    "p.ax.set_ylim(0.0, 0.03)\n",
    "p.plot_var(\"fake_double_majority\", \"C0\", label=\"_\")\n",
    "\n",
    "p.ax.get_figure().savefig(\"fake_vs_pt.pdf\")"
   ]
  },
  {
   "cell_type": "code",
   "execution_count": 74,
   "metadata": {
    "collapsed": false
   },
   "outputs": [
    {
     "data": {
      "image/png": "[encoded data removed]",
      "text/plain": [
       "<Figure size 800x600 with 1 Axes>"
      ]
     },
     "metadata": {},
     "output_type": "display_data"
    }
   ],
   "source": [
    "# vs_eta_ul = None\n",
    "p = PerformancePlot(\n",
    "    df=vs_eta, df_ul=None, xs=etas, var=vm[\"eta\"].latex\n",
    ")  # , model=model\n",
    "# p.ax.set_xlim(-4.5, 4.5)\n",
    "p.plot_var(\"double_majority\", \"C0\", label=vm[\"double_majority_pt0.9\"].latex)\n",
    "p.plot_var(\"lhc\", \"C1\", label=vm[\"lhc_pt0.9\"].latex, plot_ul=False)\n",
    "p.plot_var(\"perfect\", \"C2\", label=vm[\"perfect_pt0.9\"].latex)\n",
    "p.add_legend()\n",
    "p.ax.get_figure().savefig(\"vs_eta.pdf\")"
   ]
  },
  {
   "cell_type": "code",
   "execution_count": 75,
   "metadata": {
    "collapsed": false
   },
   "outputs": [
    {
     "name": "stderr",
     "output_type": "stream",
     "text": [
      "/tmp/ipykernel_2345810/4155649600.py:44: UserWarning: The label '_ignore' of (<matplotlib.patches.StepPatch object at 0x151532d1feb0>, <ErrorbarContainer object of 3 artists>) starts with '_'. It is thus excluded from the legend.\n",
      "  self.ax.legend(all_handles, all_labels, **kwargs)\n"
     ]
    },
    {
     "data": {
      "image/png": "[encoded data removed]",
      "text/plain": [
       "<Figure size 800x600 with 1 Axes>"
      ]
     },
     "metadata": {},
     "output_type": "display_data"
    }
   ],
   "source": [
    "p = PerformancePlot(\n",
    "    df=vs_eta,\n",
    "    df_ul=None,\n",
    "    xs=etas,\n",
    "    var=vm[\"eta\"].latex,\n",
    "    y_label=r\"$f^{\\,\\,\\mathrm{DM}}_{p_T>0.9}$\",\n",
    ")\n",
    "p.plot_var(\"fake_double_majority\", \"C0\", label=\"_ignore\")\n",
    "p.add_legend()\n",
    "p.ax.get_figure().savefig(\"fake_vs_eta.pdf\")"
   ]
  },
  {
   "cell_type": "code",
   "execution_count": 76,
   "metadata": {
    "collapsed": false
   },
   "outputs": [
    {
     "data": {
      "text/plain": [
       "'$\\\\epsilon^{\\\\mathrm{DM}}$'"
      ]
     },
     "execution_count": 76,
     "metadata": {},
     "output_type": "execute_result"
    }
   ],
   "source": [
    "vm[\"double_majority\"].latex"
   ]
  },
  {
   "cell_type": "code",
   "execution_count": 78,
   "metadata": {
    "collapsed": false
   },
   "outputs": [
    {
     "data": {
      "text/html": [
       "<div>\n",
       "<style scoped>\n",
       "    .dataframe tbody tr th:only-of-type {\n",
       "        vertical-align: middle;\n",
       "    }\n",
       "\n",
       "    .dataframe tbody tr th {\n",
       "        vertical-align: top;\n",
       "    }\n",
       "\n",
       "    .dataframe thead th {\n",
       "        text-align: right;\n",
       "    }\n",
       "</style>\n",
       "<table border=\"1\" class=\"dataframe\">\n",
       "  <thead>\n",
       "    <tr style=\"text-align: right;\">\n",
       "      <th></th>\n",
       "      <th>n_particles</th>\n",
       "      <th>n_cleaned_clusters</th>\n",
       "      <th>perfect</th>\n",
       "      <th>double_majority</th>\n",
       "      <th>lhc</th>\n",
       "      <th>fake_perfect</th>\n",
       "      <th>fake_double_majority</th>\n",
       "      <th>fake_lhc</th>\n",
       "      <th>n_particles_err</th>\n",
       "      <th>n_cleaned_clusters_err</th>\n",
       "      <th>perfect_err</th>\n",
       "      <th>double_majority_err</th>\n",
       "      <th>lhc_err</th>\n",
       "      <th>fake_perfect_err</th>\n",
       "      <th>fake_double_majority_err</th>\n",
       "      <th>fake_lhc_err</th>\n",
       "      <th>eta_min</th>\n",
       "      <th>eta_max</th>\n",
       "    </tr>\n",
       "  </thead>\n",
       "  <tbody>\n",
       "    <tr>\n",
       "      <th>0</th>\n",
       "      <td>55.3</td>\n",
       "      <td>55.1</td>\n",
       "      <td>0.989798</td>\n",
       "      <td>0.995024</td>\n",
       "      <td>1.0</td>\n",
       "      <td>0.006839</td>\n",
       "      <td>0.001613</td>\n",
       "      <td>0.0</td>\n",
       "      <td>2.454248</td>\n",
       "      <td>2.419596</td>\n",
       "      <td>0.003691</td>\n",
       "      <td>0.002535</td>\n",
       "      <td>0.0</td>\n",
       "      <td>0.003701</td>\n",
       "      <td>0.001613</td>\n",
       "      <td>0.0</td>\n",
       "      <td>-4.000000</td>\n",
       "      <td>-3.578947</td>\n",
       "    </tr>\n",
       "    <tr>\n",
       "      <th>1</th>\n",
       "      <td>57.5</td>\n",
       "      <td>57.5</td>\n",
       "      <td>0.919668</td>\n",
       "      <td>0.988476</td>\n",
       "      <td>1.0</td>\n",
       "      <td>0.081167</td>\n",
       "      <td>0.012500</td>\n",
       "      <td>0.0</td>\n",
       "      <td>1.875278</td>\n",
       "      <td>1.668333</td>\n",
       "      <td>0.013048</td>\n",
       "      <td>0.004367</td>\n",
       "      <td>0.0</td>\n",
       "      <td>0.013478</td>\n",
       "      <td>0.003861</td>\n",
       "      <td>0.0</td>\n",
       "      <td>-3.578947</td>\n",
       "      <td>-3.157895</td>\n",
       "    </tr>\n",
       "    <tr>\n",
       "      <th>2</th>\n",
       "      <td>64.9</td>\n",
       "      <td>72.6</td>\n",
       "      <td>0.820942</td>\n",
       "      <td>0.968303</td>\n",
       "      <td>1.0</td>\n",
       "      <td>0.265639</td>\n",
       "      <td>0.134721</td>\n",
       "      <td>0.0</td>\n",
       "      <td>3.686160</td>\n",
       "      <td>3.992215</td>\n",
       "      <td>0.015321</td>\n",
       "      <td>0.003591</td>\n",
       "      <td>0.0</td>\n",
       "      <td>0.019021</td>\n",
       "      <td>0.008783</td>\n",
       "      <td>0.0</td>\n",
       "      <td>-3.157895</td>\n",
       "      <td>-2.736842</td>\n",
       "    </tr>\n",
       "    <tr>\n",
       "      <th>3</th>\n",
       "      <td>69.7</td>\n",
       "      <td>73.0</td>\n",
       "      <td>0.866669</td>\n",
       "      <td>0.971224</td>\n",
       "      <td>1.0</td>\n",
       "      <td>0.170824</td>\n",
       "      <td>0.071141</td>\n",
       "      <td>0.0</td>\n",
       "      <td>2.970410</td>\n",
       "      <td>3.316625</td>\n",
       "      <td>0.010609</td>\n",
       "      <td>0.006824</td>\n",
       "      <td>0.0</td>\n",
       "      <td>0.014163</td>\n",
       "      <td>0.009542</td>\n",
       "      <td>0.0</td>\n",
       "      <td>-2.736842</td>\n",
       "      <td>-2.315789</td>\n",
       "    </tr>\n",
       "    <tr>\n",
       "      <th>4</th>\n",
       "      <td>75.9</td>\n",
       "      <td>74.8</td>\n",
       "      <td>0.957016</td>\n",
       "      <td>0.985910</td>\n",
       "      <td>1.0</td>\n",
       "      <td>0.029269</td>\n",
       "      <td>0.000000</td>\n",
       "      <td>0.0</td>\n",
       "      <td>3.529085</td>\n",
       "      <td>3.444158</td>\n",
       "      <td>0.007300</td>\n",
       "      <td>0.003763</td>\n",
       "      <td>0.0</td>\n",
       "      <td>0.006978</td>\n",
       "      <td>0.000000</td>\n",
       "      <td>0.0</td>\n",
       "      <td>-2.315789</td>\n",
       "      <td>-1.894737</td>\n",
       "    </tr>\n",
       "    <tr>\n",
       "      <th>5</th>\n",
       "      <td>83.5</td>\n",
       "      <td>82.1</td>\n",
       "      <td>0.945993</td>\n",
       "      <td>0.982960</td>\n",
       "      <td>1.0</td>\n",
       "      <td>0.038728</td>\n",
       "      <td>0.001111</td>\n",
       "      <td>0.0</td>\n",
       "      <td>4.437842</td>\n",
       "      <td>4.267318</td>\n",
       "      <td>0.007598</td>\n",
       "      <td>0.004435</td>\n",
       "      <td>0.0</td>\n",
       "      <td>0.005570</td>\n",
       "      <td>0.001111</td>\n",
       "      <td>0.0</td>\n",
       "      <td>-1.894737</td>\n",
       "      <td>-1.473684</td>\n",
       "    </tr>\n",
       "    <tr>\n",
       "      <th>6</th>\n",
       "      <td>87.1</td>\n",
       "      <td>86.2</td>\n",
       "      <td>0.947577</td>\n",
       "      <td>0.990017</td>\n",
       "      <td>1.0</td>\n",
       "      <td>0.042904</td>\n",
       "      <td>0.000000</td>\n",
       "      <td>0.0</td>\n",
       "      <td>4.757334</td>\n",
       "      <td>4.651881</td>\n",
       "      <td>0.009575</td>\n",
       "      <td>0.002918</td>\n",
       "      <td>0.0</td>\n",
       "      <td>0.008860</td>\n",
       "      <td>0.000000</td>\n",
       "      <td>0.0</td>\n",
       "      <td>-1.473684</td>\n",
       "      <td>-1.052632</td>\n",
       "    </tr>\n",
       "    <tr>\n",
       "      <th>7</th>\n",
       "      <td>82.7</td>\n",
       "      <td>81.4</td>\n",
       "      <td>0.939531</td>\n",
       "      <td>0.980907</td>\n",
       "      <td>1.0</td>\n",
       "      <td>0.045259</td>\n",
       "      <td>0.003340</td>\n",
       "      <td>0.0</td>\n",
       "      <td>3.127122</td>\n",
       "      <td>3.152424</td>\n",
       "      <td>0.009268</td>\n",
       "      <td>0.005802</td>\n",
       "      <td>0.0</td>\n",
       "      <td>0.009276</td>\n",
       "      <td>0.002294</td>\n",
       "      <td>0.0</td>\n",
       "      <td>-1.052632</td>\n",
       "      <td>-0.631579</td>\n",
       "    </tr>\n",
       "    <tr>\n",
       "      <th>8</th>\n",
       "      <td>89.7</td>\n",
       "      <td>86.8</td>\n",
       "      <td>0.899861</td>\n",
       "      <td>0.965834</td>\n",
       "      <td>1.0</td>\n",
       "      <td>0.069319</td>\n",
       "      <td>0.001190</td>\n",
       "      <td>0.0</td>\n",
       "      <td>3.797806</td>\n",
       "      <td>3.849387</td>\n",
       "      <td>0.008912</td>\n",
       "      <td>0.004759</td>\n",
       "      <td>0.0</td>\n",
       "      <td>0.009238</td>\n",
       "      <td>0.001190</td>\n",
       "      <td>0.0</td>\n",
       "      <td>-0.631579</td>\n",
       "      <td>-0.210526</td>\n",
       "    </tr>\n",
       "    <tr>\n",
       "      <th>9</th>\n",
       "      <td>84.2</td>\n",
       "      <td>81.6</td>\n",
       "      <td>0.923925</td>\n",
       "      <td>0.966673</td>\n",
       "      <td>1.0</td>\n",
       "      <td>0.045151</td>\n",
       "      <td>0.001087</td>\n",
       "      <td>0.0</td>\n",
       "      <td>3.498571</td>\n",
       "      <td>3.751148</td>\n",
       "      <td>0.009277</td>\n",
       "      <td>0.006869</td>\n",
       "      <td>0.0</td>\n",
       "      <td>0.008296</td>\n",
       "      <td>0.001087</td>\n",
       "      <td>0.0</td>\n",
       "      <td>-0.210526</td>\n",
       "      <td>0.210526</td>\n",
       "    </tr>\n",
       "    <tr>\n",
       "      <th>10</th>\n",
       "      <td>86.1</td>\n",
       "      <td>83.0</td>\n",
       "      <td>0.919193</td>\n",
       "      <td>0.962755</td>\n",
       "      <td>1.0</td>\n",
       "      <td>0.046476</td>\n",
       "      <td>0.001250</td>\n",
       "      <td>0.0</td>\n",
       "      <td>3.426855</td>\n",
       "      <td>3.349959</td>\n",
       "      <td>0.010782</td>\n",
       "      <td>0.006746</td>\n",
       "      <td>0.0</td>\n",
       "      <td>0.008809</td>\n",
       "      <td>0.001250</td>\n",
       "      <td>0.0</td>\n",
       "      <td>0.210526</td>\n",
       "      <td>0.631579</td>\n",
       "    </tr>\n",
       "    <tr>\n",
       "      <th>11</th>\n",
       "      <td>80.7</td>\n",
       "      <td>78.5</td>\n",
       "      <td>0.931903</td>\n",
       "      <td>0.971376</td>\n",
       "      <td>1.0</td>\n",
       "      <td>0.041891</td>\n",
       "      <td>0.001282</td>\n",
       "      <td>0.0</td>\n",
       "      <td>3.003886</td>\n",
       "      <td>2.952400</td>\n",
       "      <td>0.006387</td>\n",
       "      <td>0.003208</td>\n",
       "      <td>0.0</td>\n",
       "      <td>0.005437</td>\n",
       "      <td>0.001282</td>\n",
       "      <td>0.0</td>\n",
       "      <td>0.631579</td>\n",
       "      <td>1.052632</td>\n",
       "    </tr>\n",
       "    <tr>\n",
       "      <th>12</th>\n",
       "      <td>83.8</td>\n",
       "      <td>82.6</td>\n",
       "      <td>0.951063</td>\n",
       "      <td>0.984854</td>\n",
       "      <td>1.0</td>\n",
       "      <td>0.035529</td>\n",
       "      <td>0.001471</td>\n",
       "      <td>0.0</td>\n",
       "      <td>5.553377</td>\n",
       "      <td>5.412332</td>\n",
       "      <td>0.006502</td>\n",
       "      <td>0.005090</td>\n",
       "      <td>0.0</td>\n",
       "      <td>0.007943</td>\n",
       "      <td>0.001471</td>\n",
       "      <td>0.0</td>\n",
       "      <td>1.052632</td>\n",
       "      <td>1.473684</td>\n",
       "    </tr>\n",
       "    <tr>\n",
       "      <th>13</th>\n",
       "      <td>80.5</td>\n",
       "      <td>79.0</td>\n",
       "      <td>0.946030</td>\n",
       "      <td>0.981078</td>\n",
       "      <td>1.0</td>\n",
       "      <td>0.036740</td>\n",
       "      <td>0.001111</td>\n",
       "      <td>0.0</td>\n",
       "      <td>3.916489</td>\n",
       "      <td>3.711843</td>\n",
       "      <td>0.006746</td>\n",
       "      <td>0.003973</td>\n",
       "      <td>0.0</td>\n",
       "      <td>0.006675</td>\n",
       "      <td>0.001111</td>\n",
       "      <td>0.0</td>\n",
       "      <td>1.473684</td>\n",
       "      <td>1.894737</td>\n",
       "    </tr>\n",
       "    <tr>\n",
       "      <th>14</th>\n",
       "      <td>74.6</td>\n",
       "      <td>73.8</td>\n",
       "      <td>0.954195</td>\n",
       "      <td>0.987077</td>\n",
       "      <td>1.0</td>\n",
       "      <td>0.035703</td>\n",
       "      <td>0.002410</td>\n",
       "      <td>0.0</td>\n",
       "      <td>2.733333</td>\n",
       "      <td>2.686592</td>\n",
       "      <td>0.008853</td>\n",
       "      <td>0.003937</td>\n",
       "      <td>0.0</td>\n",
       "      <td>0.007664</td>\n",
       "      <td>0.002410</td>\n",
       "      <td>0.0</td>\n",
       "      <td>1.894737</td>\n",
       "      <td>2.315789</td>\n",
       "    </tr>\n",
       "    <tr>\n",
       "      <th>15</th>\n",
       "      <td>69.3</td>\n",
       "      <td>71.3</td>\n",
       "      <td>0.853161</td>\n",
       "      <td>0.956919</td>\n",
       "      <td>1.0</td>\n",
       "      <td>0.170928</td>\n",
       "      <td>0.069887</td>\n",
       "      <td>0.0</td>\n",
       "      <td>2.011357</td>\n",
       "      <td>2.022375</td>\n",
       "      <td>0.015487</td>\n",
       "      <td>0.004994</td>\n",
       "      <td>0.0</td>\n",
       "      <td>0.015008</td>\n",
       "      <td>0.008104</td>\n",
       "      <td>0.0</td>\n",
       "      <td>2.315789</td>\n",
       "      <td>2.736842</td>\n",
       "    </tr>\n",
       "    <tr>\n",
       "      <th>16</th>\n",
       "      <td>67.6</td>\n",
       "      <td>75.0</td>\n",
       "      <td>0.793455</td>\n",
       "      <td>0.966663</td>\n",
       "      <td>1.0</td>\n",
       "      <td>0.282089</td>\n",
       "      <td>0.126298</td>\n",
       "      <td>0.0</td>\n",
       "      <td>3.340659</td>\n",
       "      <td>3.921451</td>\n",
       "      <td>0.015353</td>\n",
       "      <td>0.007524</td>\n",
       "      <td>0.0</td>\n",
       "      <td>0.022041</td>\n",
       "      <td>0.017199</td>\n",
       "      <td>0.0</td>\n",
       "      <td>2.736842</td>\n",
       "      <td>3.157895</td>\n",
       "    </tr>\n",
       "    <tr>\n",
       "      <th>17</th>\n",
       "      <td>61.8</td>\n",
       "      <td>61.9</td>\n",
       "      <td>0.929483</td>\n",
       "      <td>0.997056</td>\n",
       "      <td>1.0</td>\n",
       "      <td>0.072243</td>\n",
       "      <td>0.004790</td>\n",
       "      <td>0.0</td>\n",
       "      <td>2.788070</td>\n",
       "      <td>2.762648</td>\n",
       "      <td>0.010616</td>\n",
       "      <td>0.001964</td>\n",
       "      <td>0.0</td>\n",
       "      <td>0.010633</td>\n",
       "      <td>0.002478</td>\n",
       "      <td>0.0</td>\n",
       "      <td>3.157895</td>\n",
       "      <td>3.578947</td>\n",
       "    </tr>\n",
       "    <tr>\n",
       "      <th>18</th>\n",
       "      <td>52.8</td>\n",
       "      <td>52.5</td>\n",
       "      <td>0.986077</td>\n",
       "      <td>0.994956</td>\n",
       "      <td>1.0</td>\n",
       "      <td>0.009040</td>\n",
       "      <td>0.000000</td>\n",
       "      <td>0.0</td>\n",
       "      <td>2.731707</td>\n",
       "      <td>2.655184</td>\n",
       "      <td>0.007972</td>\n",
       "      <td>0.003523</td>\n",
       "      <td>0.0</td>\n",
       "      <td>0.005278</td>\n",
       "      <td>0.000000</td>\n",
       "      <td>0.0</td>\n",
       "      <td>3.578947</td>\n",
       "      <td>4.000000</td>\n",
       "    </tr>\n",
       "    <tr>\n",
       "      <th>19</th>\n",
       "      <td>0.0</td>\n",
       "      <td>0.0</td>\n",
       "      <td>NaN</td>\n",
       "      <td>NaN</td>\n",
       "      <td>NaN</td>\n",
       "      <td>NaN</td>\n",
       "      <td>NaN</td>\n",
       "      <td>NaN</td>\n",
       "      <td>0.000000</td>\n",
       "      <td>0.000000</td>\n",
       "      <td>NaN</td>\n",
       "      <td>NaN</td>\n",
       "      <td>NaN</td>\n",
       "      <td>NaN</td>\n",
       "      <td>NaN</td>\n",
       "      <td>NaN</td>\n",
       "      <td>4.000000</td>\n",
       "      <td>4.000000</td>\n",
       "    </tr>\n",
       "  </tbody>\n",
       "</table>\n",
       "</div>"
      ],
      "text/plain": [
       "    n_particles  n_cleaned_clusters   perfect  double_majority  lhc  \\\n",
       "0          55.3                55.1  0.989798         0.995024  1.0   \n",
       "1          57.5                57.5  0.919668         0.988476  1.0   \n",
       "2          64.9                72.6  0.820942         0.968303  1.0   \n",
       "3          69.7                73.0  0.866669         0.971224  1.0   \n",
       "4          75.9                74.8  0.957016         0.985910  1.0   \n",
       "5          83.5                82.1  0.945993         0.982960  1.0   \n",
       "6          87.1                86.2  0.947577         0.990017  1.0   \n",
       "7          82.7                81.4  0.939531         0.980907  1.0   \n",
       "8          89.7                86.8  0.899861         0.965834  1.0   \n",
       "9          84.2                81.6  0.923925         0.966673  1.0   \n",
       "10         86.1                83.0  0.919193         0.962755  1.0   \n",
       "11         80.7                78.5  0.931903         0.971376  1.0   \n",
       "12         83.8                82.6  0.951063         0.984854  1.0   \n",
       "13         80.5                79.0  0.946030         0.981078  1.0   \n",
       "14         74.6                73.8  0.954195         0.987077  1.0   \n",
       "15         69.3                71.3  0.853161         0.956919  1.0   \n",
       "16         67.6                75.0  0.793455         0.966663  1.0   \n",
       "17         61.8                61.9  0.929483         0.997056  1.0   \n",
       "18         52.8                52.5  0.986077         0.994956  1.0   \n",
       "19          0.0                 0.0       NaN              NaN  NaN   \n",
       "\n",
       "    fake_perfect  fake_double_majority  fake_lhc  n_particles_err  \\\n",
       "0       0.006839              0.001613       0.0         2.454248   \n",
       "1       0.081167              0.012500       0.0         1.875278   \n",
       "2       0.265639              0.134721       0.0         3.686160   \n",
       "3       0.170824              0.071141       0.0         2.970410   \n",
       "4       0.029269              0.000000       0.0         3.529085   \n",
       "5       0.038728              0.001111       0.0         4.437842   \n",
       "6       0.042904              0.000000       0.0         4.757334   \n",
       "7       0.045259              0.003340       0.0         3.127122   \n",
       "8       0.069319              0.001190       0.0         3.797806   \n",
       "9       0.045151              0.001087       0.0         3.498571   \n",
       "10      0.046476              0.001250       0.0         3.426855   \n",
       "11      0.041891              0.001282       0.0         3.003886   \n",
       "12      0.035529              0.001471       0.0         5.553377   \n",
       "13      0.036740              0.001111       0.0         3.916489   \n",
       "14      0.035703              0.002410       0.0         2.733333   \n",
       "15      0.170928              0.069887       0.0         2.011357   \n",
       "16      0.282089              0.126298       0.0         3.340659   \n",
       "17      0.072243              0.004790       0.0         2.788070   \n",
       "18      0.009040              0.000000       0.0         2.731707   \n",
       "19           NaN                   NaN       NaN         0.000000   \n",
       "\n",
       "    n_cleaned_clusters_err  perfect_err  double_majority_err  lhc_err  \\\n",
       "0                 2.419596     0.003691             0.002535      0.0   \n",
       "1                 1.668333     0.013048             0.004367      0.0   \n",
       "2                 3.992215     0.015321             0.003591      0.0   \n",
       "3                 3.316625     0.010609             0.006824      0.0   \n",
       "4                 3.444158     0.007300             0.003763      0.0   \n",
       "5                 4.267318     0.007598             0.004435      0.0   \n",
       "6                 4.651881     0.009575             0.002918      0.0   \n",
       "7                 3.152424     0.009268             0.005802      0.0   \n",
       "8                 3.849387     0.008912             0.004759      0.0   \n",
       "9                 3.751148     0.009277             0.006869      0.0   \n",
       "10                3.349959     0.010782             0.006746      0.0   \n",
       "11                2.952400     0.006387             0.003208      0.0   \n",
       "12                5.412332     0.006502             0.005090      0.0   \n",
       "13                3.711843     0.006746             0.003973      0.0   \n",
       "14                2.686592     0.008853             0.003937      0.0   \n",
       "15                2.022375     0.015487             0.004994      0.0   \n",
       "16                3.921451     0.015353             0.007524      0.0   \n",
       "17                2.762648     0.010616             0.001964      0.0   \n",
       "18                2.655184     0.007972             0.003523      0.0   \n",
       "19                0.000000          NaN                  NaN      NaN   \n",
       "\n",
       "    fake_perfect_err  fake_double_majority_err  fake_lhc_err   eta_min  \\\n",
       "0           0.003701                  0.001613           0.0 -4.000000   \n",
       "1           0.013478                  0.003861           0.0 -3.578947   \n",
       "2           0.019021                  0.008783           0.0 -3.157895   \n",
       "3           0.014163                  0.009542           0.0 -2.736842   \n",
       "4           0.006978                  0.000000           0.0 -2.315789   \n",
       "5           0.005570                  0.001111           0.0 -1.894737   \n",
       "6           0.008860                  0.000000           0.0 -1.473684   \n",
       "7           0.009276                  0.002294           0.0 -1.052632   \n",
       "8           0.009238                  0.001190           0.0 -0.631579   \n",
       "9           0.008296                  0.001087           0.0 -0.210526   \n",
       "10          0.008809                  0.001250           0.0  0.210526   \n",
       "11          0.005437                  0.001282           0.0  0.631579   \n",
       "12          0.007943                  0.001471           0.0  1.052632   \n",
       "13          0.006675                  0.001111           0.0  1.473684   \n",
       "14          0.007664                  0.002410           0.0  1.894737   \n",
       "15          0.015008                  0.008104           0.0  2.315789   \n",
       "16          0.022041                  0.017199           0.0  2.736842   \n",
       "17          0.010633                  0.002478           0.0  3.157895   \n",
       "18          0.005278                  0.000000           0.0  3.578947   \n",
       "19               NaN                       NaN           NaN  4.000000   \n",
       "\n",
       "     eta_max  \n",
       "0  -3.578947  \n",
       "1  -3.157895  \n",
       "2  -2.736842  \n",
       "3  -2.315789  \n",
       "4  -1.894737  \n",
       "5  -1.473684  \n",
       "6  -1.052632  \n",
       "7  -0.631579  \n",
       "8  -0.210526  \n",
       "9   0.210526  \n",
       "10  0.631579  \n",
       "11  1.052632  \n",
       "12  1.473684  \n",
       "13  1.894737  \n",
       "14  2.315789  \n",
       "15  2.736842  \n",
       "16  3.157895  \n",
       "17  3.578947  \n",
       "18  4.000000  \n",
       "19  4.000000  "
      ]
     },
     "execution_count": 78,
     "metadata": {},
     "output_type": "execute_result"
    }
   ],
   "source": [
    "vs_eta_ul"
   ]
  },
  {
   "cell_type": "code",
   "execution_count": 79,
   "metadata": {
    "collapsed": false
   },
   "outputs": [
    {
     "data": {
      "text/plain": [
       "(21,)"
      ]
     },
     "execution_count": 79,
     "metadata": {},
     "output_type": "execute_result"
    }
   ],
   "source": [
    "etas.shape"
   ]
  },
  {
   "cell_type": "code",
   "execution_count": 80,
   "metadata": {
    "collapsed": false
   },
   "outputs": [],
   "source": [
    "vs_eta_uul = pd.read_csv(\n",
    "    \"/home/kl5675/Documents/23/git_sync/hyperparameter_optimization2/scripts/legacy/vs_eta_gc.csv\"\n",
    ")"
   ]
  },
  {
   "cell_type": "code",
   "execution_count": 81,
   "metadata": {
    "collapsed": false
   },
   "outputs": [],
   "source": [
    "vs_eta_cc = pd.read_csv(\n",
    "    \"/home/kl5675/Documents/23/git_sync/hyperparameter_optimization2/scripts/legacy/vs_eta_cc.csv\"\n",
    ")"
   ]
  },
  {
   "cell_type": "code",
   "execution_count": 82,
   "metadata": {
    "collapsed": false
   },
   "outputs": [
    {
     "ename": "ValueError",
     "evalue": "Size mismatch between \"values\" and \"edges\". Expected `len(values) + 1 == len(edges)`, but `len(values) = 17` and `len(edges) = 21`.",
     "output_type": "error",
     "traceback": [
      "\u001b[0;31m---------------------------------------------------------------------------\u001b[0m",
      "\u001b[0;31mValueError\u001b[0m                                Traceback (most recent call last)",
      "Cell \u001b[0;32mIn[82], line 3\u001b[0m\n\u001b[1;32m      1\u001b[0m p \u001b[38;5;241m=\u001b[39m PerformanceComparisonPlot(xs\u001b[38;5;241m=\u001b[39metas, var\u001b[38;5;241m=\u001b[39m\u001b[38;5;124m\"\u001b[39m\u001b[38;5;124mdouble_majority\u001b[39m\u001b[38;5;124m\"\u001b[39m, x_label\u001b[38;5;241m=\u001b[39mvm[\u001b[38;5;124m\"\u001b[39m\u001b[38;5;124meta\u001b[39m\u001b[38;5;124m\"\u001b[39m]\u001b[38;5;241m.\u001b[39mlatex, ylabel\u001b[38;5;241m=\u001b[39mvm[\u001b[38;5;124m\"\u001b[39m\u001b[38;5;124mdouble_majority_pt0.9\u001b[39m\u001b[38;5;124m\"\u001b[39m]\u001b[38;5;241m.\u001b[39mlatex)\n\u001b[1;32m      2\u001b[0m p\u001b[38;5;241m.\u001b[39max\u001b[38;5;241m.\u001b[39mset_ylim(\u001b[38;5;241m0.4\u001b[39m, \u001b[38;5;241m1.06\u001b[39m)\n\u001b[0;32m----> 3\u001b[0m \u001b[43mp\u001b[49m\u001b[38;5;241;43m.\u001b[39;49m\u001b[43mplot_var\u001b[49m\u001b[43m(\u001b[49m\u001b[43mvs_eta_uul\u001b[49m\u001b[43m,\u001b[49m\u001b[43m \u001b[49m\u001b[43mlabel\u001b[49m\u001b[38;5;241;43m=\u001b[39;49m\u001b[38;5;124;43m\"\u001b[39;49m\u001b[38;5;124;43mPerfect EC upper bound (graph construction)\u001b[39;49m\u001b[38;5;124;43m\"\u001b[39;49m\u001b[43m,\u001b[49m\u001b[43m \u001b[49m\u001b[43mcolor\u001b[49m\u001b[38;5;241;43m=\u001b[39;49m\u001b[38;5;124;43m\"\u001b[39;49m\u001b[38;5;124;43mC0\u001b[39;49m\u001b[38;5;124;43m\"\u001b[39;49m\u001b[43m)\u001b[49m\n\u001b[1;32m      4\u001b[0m p\u001b[38;5;241m.\u001b[39mplot_var(vs_eta_ul, label\u001b[38;5;241m=\u001b[39m\u001b[38;5;124m\"\u001b[39m\u001b[38;5;124mPerfect EC upper bound (EF)\u001b[39m\u001b[38;5;124m\"\u001b[39m, color\u001b[38;5;241m=\u001b[39m\u001b[38;5;124m\"\u001b[39m\u001b[38;5;124mC1\u001b[39m\u001b[38;5;124m\"\u001b[39m)\n\u001b[1;32m      5\u001b[0m p\u001b[38;5;241m.\u001b[39mplot_var(vs_eta, label\u001b[38;5;241m=\u001b[39m\u001b[38;5;124m\"\u001b[39m\u001b[38;5;124mObject condensation\u001b[39m\u001b[38;5;124m\"\u001b[39m, color\u001b[38;5;241m=\u001b[39m\u001b[38;5;124m\"\u001b[39m\u001b[38;5;124mC2\u001b[39m\u001b[38;5;124m\"\u001b[39m)\n",
      "Cell \u001b[0;32mIn[77], line 11\u001b[0m, in \u001b[0;36mPerformanceComparisonPlot.plot_var\u001b[0;34m(self, df, label, color)\u001b[0m\n\u001b[1;32m     10\u001b[0m \u001b[38;5;28;01mdef\u001b[39;00m \u001b[38;5;21mplot_var\u001b[39m(\u001b[38;5;28mself\u001b[39m, df, label, color):\n\u001b[0;32m---> 11\u001b[0m     stairs \u001b[38;5;241m=\u001b[39m \u001b[38;5;28;43mself\u001b[39;49m\u001b[38;5;241;43m.\u001b[39;49m\u001b[43max\u001b[49m\u001b[38;5;241;43m.\u001b[39;49m\u001b[43mstairs\u001b[49m\u001b[43m(\u001b[49m\u001b[43mdf\u001b[49m\u001b[43m[\u001b[49m\u001b[38;5;28;43mself\u001b[39;49m\u001b[38;5;241;43m.\u001b[39;49m\u001b[43mvar\u001b[49m\u001b[43m]\u001b[49m\u001b[43m,\u001b[49m\u001b[43m \u001b[49m\u001b[43medges\u001b[49m\u001b[38;5;241;43m=\u001b[39;49m\u001b[38;5;28;43mself\u001b[39;49m\u001b[38;5;241;43m.\u001b[39;49m\u001b[43mxs\u001b[49m\u001b[43m,\u001b[49m\u001b[43m \u001b[49m\u001b[43mcolor\u001b[49m\u001b[38;5;241;43m=\u001b[39;49m\u001b[43mcolor\u001b[49m\u001b[43m,\u001b[49m\u001b[43m \u001b[49m\u001b[43mlw\u001b[49m\u001b[38;5;241;43m=\u001b[39;49m\u001b[38;5;241;43m1.5\u001b[39;49m\u001b[43m)\u001b[49m\n\u001b[1;32m     12\u001b[0m     mids \u001b[38;5;241m=\u001b[39m (\u001b[38;5;28mself\u001b[39m\u001b[38;5;241m.\u001b[39mxs[:\u001b[38;5;241m-\u001b[39m\u001b[38;5;241m1\u001b[39m] \u001b[38;5;241m+\u001b[39m \u001b[38;5;28mself\u001b[39m\u001b[38;5;241m.\u001b[39mxs[\u001b[38;5;241m1\u001b[39m:]) \u001b[38;5;241m/\u001b[39m \u001b[38;5;241m2\u001b[39m\n\u001b[1;32m     13\u001b[0m     bar \u001b[38;5;241m=\u001b[39m \u001b[38;5;28mself\u001b[39m\u001b[38;5;241m.\u001b[39max\u001b[38;5;241m.\u001b[39merrorbar(\n\u001b[1;32m     14\u001b[0m         mids,\n\u001b[1;32m     15\u001b[0m         \u001b[38;5;28mself\u001b[39m\u001b[38;5;241m.\u001b[39mvar,\n\u001b[0;32m   (...)\u001b[0m\n\u001b[1;32m     19\u001b[0m         data\u001b[38;5;241m=\u001b[39mdf,\n\u001b[1;32m     20\u001b[0m     )\n",
      "File \u001b[0;32m/scratch/gpfs/kl5675/micromamba/envs/gnn/lib/python3.10/site-packages/matplotlib/__init__.py:1442\u001b[0m, in \u001b[0;36m_preprocess_data.<locals>.inner\u001b[0;34m(ax, data, *args, **kwargs)\u001b[0m\n\u001b[1;32m   1439\u001b[0m \u001b[38;5;129m@functools\u001b[39m\u001b[38;5;241m.\u001b[39mwraps(func)\n\u001b[1;32m   1440\u001b[0m \u001b[38;5;28;01mdef\u001b[39;00m \u001b[38;5;21minner\u001b[39m(ax, \u001b[38;5;241m*\u001b[39margs, data\u001b[38;5;241m=\u001b[39m\u001b[38;5;28;01mNone\u001b[39;00m, \u001b[38;5;241m*\u001b[39m\u001b[38;5;241m*\u001b[39mkwargs):\n\u001b[1;32m   1441\u001b[0m     \u001b[38;5;28;01mif\u001b[39;00m data \u001b[38;5;129;01mis\u001b[39;00m \u001b[38;5;28;01mNone\u001b[39;00m:\n\u001b[0;32m-> 1442\u001b[0m         \u001b[38;5;28;01mreturn\u001b[39;00m \u001b[43mfunc\u001b[49m\u001b[43m(\u001b[49m\u001b[43max\u001b[49m\u001b[43m,\u001b[49m\u001b[43m \u001b[49m\u001b[38;5;241;43m*\u001b[39;49m\u001b[38;5;28;43mmap\u001b[39;49m\u001b[43m(\u001b[49m\u001b[43msanitize_sequence\u001b[49m\u001b[43m,\u001b[49m\u001b[43m \u001b[49m\u001b[43margs\u001b[49m\u001b[43m)\u001b[49m\u001b[43m,\u001b[49m\u001b[43m \u001b[49m\u001b[38;5;241;43m*\u001b[39;49m\u001b[38;5;241;43m*\u001b[39;49m\u001b[43mkwargs\u001b[49m\u001b[43m)\u001b[49m\n\u001b[1;32m   1444\u001b[0m     bound \u001b[38;5;241m=\u001b[39m new_sig\u001b[38;5;241m.\u001b[39mbind(ax, \u001b[38;5;241m*\u001b[39margs, \u001b[38;5;241m*\u001b[39m\u001b[38;5;241m*\u001b[39mkwargs)\n\u001b[1;32m   1445\u001b[0m     auto_label \u001b[38;5;241m=\u001b[39m (bound\u001b[38;5;241m.\u001b[39marguments\u001b[38;5;241m.\u001b[39mget(label_namer)\n\u001b[1;32m   1446\u001b[0m                   \u001b[38;5;129;01mor\u001b[39;00m bound\u001b[38;5;241m.\u001b[39mkwargs\u001b[38;5;241m.\u001b[39mget(label_namer))\n",
      "File \u001b[0;32m/scratch/gpfs/kl5675/micromamba/envs/gnn/lib/python3.10/site-packages/matplotlib/axes/_axes.py:7016\u001b[0m, in \u001b[0;36mAxes.stairs\u001b[0;34m(self, values, edges, orientation, baseline, fill, **kwargs)\u001b[0m\n\u001b[1;32m   7011\u001b[0m     edges \u001b[38;5;241m=\u001b[39m np\u001b[38;5;241m.\u001b[39marange(\u001b[38;5;28mlen\u001b[39m(values) \u001b[38;5;241m+\u001b[39m \u001b[38;5;241m1\u001b[39m)\n\u001b[1;32m   7013\u001b[0m edges, values, baseline \u001b[38;5;241m=\u001b[39m \u001b[38;5;28mself\u001b[39m\u001b[38;5;241m.\u001b[39m_process_unit_info(\n\u001b[1;32m   7014\u001b[0m     [(\u001b[38;5;124m\"\u001b[39m\u001b[38;5;124mx\u001b[39m\u001b[38;5;124m\"\u001b[39m, edges), (\u001b[38;5;124m\"\u001b[39m\u001b[38;5;124my\u001b[39m\u001b[38;5;124m\"\u001b[39m, values), (\u001b[38;5;124m\"\u001b[39m\u001b[38;5;124my\u001b[39m\u001b[38;5;124m\"\u001b[39m, baseline)], kwargs)\n\u001b[0;32m-> 7016\u001b[0m patch \u001b[38;5;241m=\u001b[39m \u001b[43mmpatches\u001b[49m\u001b[38;5;241;43m.\u001b[39;49m\u001b[43mStepPatch\u001b[49m\u001b[43m(\u001b[49m\u001b[43mvalues\u001b[49m\u001b[43m,\u001b[49m\n\u001b[1;32m   7017\u001b[0m \u001b[43m                           \u001b[49m\u001b[43medges\u001b[49m\u001b[43m,\u001b[49m\n\u001b[1;32m   7018\u001b[0m \u001b[43m                           \u001b[49m\u001b[43mbaseline\u001b[49m\u001b[38;5;241;43m=\u001b[39;49m\u001b[43mbaseline\u001b[49m\u001b[43m,\u001b[49m\n\u001b[1;32m   7019\u001b[0m \u001b[43m                           \u001b[49m\u001b[43morientation\u001b[49m\u001b[38;5;241;43m=\u001b[39;49m\u001b[43morientation\u001b[49m\u001b[43m,\u001b[49m\n\u001b[1;32m   7020\u001b[0m \u001b[43m                           \u001b[49m\u001b[43mfill\u001b[49m\u001b[38;5;241;43m=\u001b[39;49m\u001b[43mfill\u001b[49m\u001b[43m,\u001b[49m\n\u001b[1;32m   7021\u001b[0m \u001b[43m                           \u001b[49m\u001b[38;5;241;43m*\u001b[39;49m\u001b[38;5;241;43m*\u001b[39;49m\u001b[43mkwargs\u001b[49m\u001b[43m)\u001b[49m\n\u001b[1;32m   7022\u001b[0m \u001b[38;5;28mself\u001b[39m\u001b[38;5;241m.\u001b[39madd_patch(patch)\n\u001b[1;32m   7023\u001b[0m \u001b[38;5;28;01mif\u001b[39;00m baseline \u001b[38;5;129;01mis\u001b[39;00m \u001b[38;5;28;01mNone\u001b[39;00m:\n",
      "File \u001b[0;32m/scratch/gpfs/kl5675/micromamba/envs/gnn/lib/python3.10/site-packages/matplotlib/patches.py:1003\u001b[0m, in \u001b[0;36mStepPatch.__init__\u001b[0;34m(self, values, edges, orientation, baseline, **kwargs)\u001b[0m\n\u001b[1;32m   1001\u001b[0m \u001b[38;5;28mself\u001b[39m\u001b[38;5;241m.\u001b[39m_values \u001b[38;5;241m=\u001b[39m np\u001b[38;5;241m.\u001b[39masarray(values)\n\u001b[1;32m   1002\u001b[0m \u001b[38;5;28mself\u001b[39m\u001b[38;5;241m.\u001b[39m_baseline \u001b[38;5;241m=\u001b[39m np\u001b[38;5;241m.\u001b[39masarray(baseline) \u001b[38;5;28;01mif\u001b[39;00m baseline \u001b[38;5;129;01mis\u001b[39;00m \u001b[38;5;129;01mnot\u001b[39;00m \u001b[38;5;28;01mNone\u001b[39;00m \u001b[38;5;28;01melse\u001b[39;00m \u001b[38;5;28;01mNone\u001b[39;00m\n\u001b[0;32m-> 1003\u001b[0m \u001b[38;5;28;43mself\u001b[39;49m\u001b[38;5;241;43m.\u001b[39;49m\u001b[43m_update_path\u001b[49m\u001b[43m(\u001b[49m\u001b[43m)\u001b[49m\n\u001b[1;32m   1004\u001b[0m \u001b[38;5;28msuper\u001b[39m()\u001b[38;5;241m.\u001b[39m\u001b[38;5;21m__init__\u001b[39m(\u001b[38;5;28mself\u001b[39m\u001b[38;5;241m.\u001b[39m_path, \u001b[38;5;241m*\u001b[39m\u001b[38;5;241m*\u001b[39mkwargs)\n",
      "File \u001b[0;32m/scratch/gpfs/kl5675/micromamba/envs/gnn/lib/python3.10/site-packages/matplotlib/patches.py:1010\u001b[0m, in \u001b[0;36mStepPatch._update_path\u001b[0;34m(self)\u001b[0m\n\u001b[1;32m   1008\u001b[0m     \u001b[38;5;28;01mraise\u001b[39;00m \u001b[38;5;167;01mValueError\u001b[39;00m(\u001b[38;5;124m'\u001b[39m\u001b[38;5;124mNan values in \u001b[39m\u001b[38;5;124m\"\u001b[39m\u001b[38;5;124medges\u001b[39m\u001b[38;5;124m\"\u001b[39m\u001b[38;5;124m are disallowed\u001b[39m\u001b[38;5;124m'\u001b[39m)\n\u001b[1;32m   1009\u001b[0m \u001b[38;5;28;01mif\u001b[39;00m \u001b[38;5;28mself\u001b[39m\u001b[38;5;241m.\u001b[39m_edges\u001b[38;5;241m.\u001b[39msize \u001b[38;5;241m-\u001b[39m \u001b[38;5;241m1\u001b[39m \u001b[38;5;241m!=\u001b[39m \u001b[38;5;28mself\u001b[39m\u001b[38;5;241m.\u001b[39m_values\u001b[38;5;241m.\u001b[39msize:\n\u001b[0;32m-> 1010\u001b[0m     \u001b[38;5;28;01mraise\u001b[39;00m \u001b[38;5;167;01mValueError\u001b[39;00m(\u001b[38;5;124m'\u001b[39m\u001b[38;5;124mSize mismatch between \u001b[39m\u001b[38;5;124m\"\u001b[39m\u001b[38;5;124mvalues\u001b[39m\u001b[38;5;124m\"\u001b[39m\u001b[38;5;124m and \u001b[39m\u001b[38;5;124m\"\u001b[39m\u001b[38;5;124medges\u001b[39m\u001b[38;5;124m\"\u001b[39m\u001b[38;5;124m. \u001b[39m\u001b[38;5;124m'\u001b[39m\n\u001b[1;32m   1011\u001b[0m                      \u001b[38;5;124m\"\u001b[39m\u001b[38;5;124mExpected `len(values) + 1 == len(edges)`, but \u001b[39m\u001b[38;5;124m\"\u001b[39m\n\u001b[1;32m   1012\u001b[0m                      \u001b[38;5;124mf\u001b[39m\u001b[38;5;124m\"\u001b[39m\u001b[38;5;124m`len(values) = \u001b[39m\u001b[38;5;132;01m{\u001b[39;00m\u001b[38;5;28mself\u001b[39m\u001b[38;5;241m.\u001b[39m_values\u001b[38;5;241m.\u001b[39msize\u001b[38;5;132;01m}\u001b[39;00m\u001b[38;5;124m` and \u001b[39m\u001b[38;5;124m\"\u001b[39m\n\u001b[1;32m   1013\u001b[0m                      \u001b[38;5;124mf\u001b[39m\u001b[38;5;124m\"\u001b[39m\u001b[38;5;124m`len(edges) = \u001b[39m\u001b[38;5;132;01m{\u001b[39;00m\u001b[38;5;28mself\u001b[39m\u001b[38;5;241m.\u001b[39m_edges\u001b[38;5;241m.\u001b[39msize\u001b[38;5;132;01m}\u001b[39;00m\u001b[38;5;124m`.\u001b[39m\u001b[38;5;124m\"\u001b[39m)\n\u001b[1;32m   1014\u001b[0m \u001b[38;5;66;03m# Initializing with empty arrays allows supporting empty stairs.\u001b[39;00m\n\u001b[1;32m   1015\u001b[0m verts, codes \u001b[38;5;241m=\u001b[39m [np\u001b[38;5;241m.\u001b[39mempty((\u001b[38;5;241m0\u001b[39m, \u001b[38;5;241m2\u001b[39m))], [np\u001b[38;5;241m.\u001b[39mempty(\u001b[38;5;241m0\u001b[39m, dtype\u001b[38;5;241m=\u001b[39mPath\u001b[38;5;241m.\u001b[39mcode_type)]\n",
      "\u001b[0;31mValueError\u001b[0m: Size mismatch between \"values\" and \"edges\". Expected `len(values) + 1 == len(edges)`, but `len(values) = 17` and `len(edges) = 21`."
     ]
    },
    {
     "data": {
      "image/png": "[encoded data removed]",
      "text/plain": [
       "<Figure size 800x600 with 1 Axes>"
      ]
     },
     "metadata": {},
     "output_type": "display_data"
    }
   ],
   "source": [
    "from gnn_tracking.analysis.efficiences import PerformanceComparisonPlot\n",
    "\n",
    "\n",
    "p = PerformanceComparisonPlot(\n",
    "    xs=etas,\n",
    "    var=\"double_majority\",\n",
    "    x_label=vm[\"eta\"].latex,\n",
    "    ylabel=vm[\"double_majority_pt0.9\"].latex,\n",
    ")\n",
    "p.ax.set_ylim(0.4, 1.06)\n",
    "p.plot_var(vs_eta_uul, label=\"Perfect EC upper bound (graph construction)\", color=\"C0\")\n",
    "p.plot_var(vs_eta_ul, label=\"Perfect EC upper bound (EF)\", color=\"C1\")\n",
    "p.plot_var(vs_eta, label=\"Object condensation\", color=\"C2\")\n",
    "p.plot_var(vs_eta_cc, label=\"Connected components (EF)\", color=\"C3\")\n",
    "p.add_legend(loc=\"lower left\", frameon=True)\n",
    "p.ax.get_figure().savefig(\"vs_eta_dm.pdf\")"
   ]
  },
  {
   "cell_type": "code",
   "execution_count": 168,
   "metadata": {
    "collapsed": false
   },
   "outputs": [
    {
     "data": {
      "image/png": "[encoded data removed]",
      "text/plain": [
       "<Figure size 800x600 with 1 Axes>"
      ]
     },
     "metadata": {},
     "output_type": "display_data"
    }
   ],
   "source": [
    "p = PerformanceComparisonPlot(\n",
    "    xs=etas, var=\"perfect\", x_label=vm[\"eta\"].latex, ylabel=vm[\"perfect_pt0.9\"].latex\n",
    ")\n",
    "p.ax.set_ylim(0.1, 1.05)\n",
    "p.plot_var(vs_eta_uul, label=\"Perfect EC UB (graph construction)\", color=\"C0\")\n",
    "p.plot_var(vs_eta_ul, label=\"Perfect EC UB (EF)\", color=\"C1\")\n",
    "p.plot_var(vs_eta, label=\"Object condensation\", color=\"C2\")\n",
    "p.plot_var(vs_eta_cc, label=\"Connected components (EF)\", color=\"C3\")\n",
    "# p.add_legend()\n",
    "p.ax.get_figure().savefig(\"vs_eta_perfect.pdf\")"
   ]
  },
  {
   "cell_type": "code",
   "execution_count": null,
   "metadata": {
    "collapsed": false
   },
   "outputs": [],
   "source": []
  }
 ],
 "metadata": {
  "kernelspec": {
   "display_name": "Python 3",
   "language": "python",
   "name": "python3"
  },
  "language_info": {
   "codemirror_mode": {
    "name": "ipython",
    "version": 2
   },
   "file_extension": ".py",
   "mimetype": "text/x-python",
   "name": "python",
   "nbconvert_exporter": "python",
   "pygments_lexer": "ipython2",
   "version": "2.7.6"
  }
 },
 "nbformat": 4,
 "nbformat_minor": 0
}
